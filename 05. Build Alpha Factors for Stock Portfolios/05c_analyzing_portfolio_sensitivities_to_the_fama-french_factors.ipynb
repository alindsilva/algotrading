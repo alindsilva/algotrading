{
 "cells": [
  {
   "cell_type": "markdown",
   "id": "fb3015f0",
   "metadata": {},
   "source": [
    "## Analyzing Portfolio Sensitivities to the Fama-French Factors"
   ]
  },
  {
   "cell_type": "code",
   "execution_count": 18,
   "id": "adf02f2a",
   "metadata": {},
   "outputs": [
    {
     "name": "stdout",
     "output_type": "stream",
     "text": [
      "Requirement already satisfied: pandas_datareader in /Users/alin/miniconda3/envs/openbb_all/lib/python3.11/site-packages (0.10.0)\n",
      "Requirement already satisfied: lxml in /Users/alin/miniconda3/envs/openbb_all/lib/python3.11/site-packages (from pandas_datareader) (5.3.0)\n",
      "Requirement already satisfied: pandas>=0.23 in /Users/alin/miniconda3/envs/openbb_all/lib/python3.11/site-packages (from pandas_datareader) (2.2.3)\n",
      "Requirement already satisfied: requests>=2.19.0 in /Users/alin/miniconda3/envs/openbb_all/lib/python3.11/site-packages (from pandas_datareader) (2.32.3)\n",
      "Requirement already satisfied: numpy>=1.23.2 in /Users/alin/miniconda3/envs/openbb_all/lib/python3.11/site-packages (from pandas>=0.23->pandas_datareader) (1.26.4)\n",
      "Requirement already satisfied: python-dateutil>=2.8.2 in /Users/alin/miniconda3/envs/openbb_all/lib/python3.11/site-packages (from pandas>=0.23->pandas_datareader) (2.9.0)\n",
      "Requirement already satisfied: pytz>=2020.1 in /Users/alin/miniconda3/envs/openbb_all/lib/python3.11/site-packages (from pandas>=0.23->pandas_datareader) (2024.2)\n",
      "Requirement already satisfied: tzdata>=2022.7 in /Users/alin/miniconda3/envs/openbb_all/lib/python3.11/site-packages (from pandas>=0.23->pandas_datareader) (2024.2)\n",
      "Requirement already satisfied: charset-normalizer<4,>=2 in /Users/alin/miniconda3/envs/openbb_all/lib/python3.11/site-packages (from requests>=2.19.0->pandas_datareader) (3.4.0)\n",
      "Requirement already satisfied: idna<4,>=2.5 in /Users/alin/miniconda3/envs/openbb_all/lib/python3.11/site-packages (from requests>=2.19.0->pandas_datareader) (3.10)\n",
      "Requirement already satisfied: urllib3<3,>=1.21.1 in /Users/alin/miniconda3/envs/openbb_all/lib/python3.11/site-packages (from requests>=2.19.0->pandas_datareader) (2.2.3)\n",
      "Requirement already satisfied: certifi>=2017.4.17 in /Users/alin/miniconda3/envs/openbb_all/lib/python3.11/site-packages (from requests>=2.19.0->pandas_datareader) (2024.8.30)\n",
      "Requirement already satisfied: six>=1.5 in /Users/alin/miniconda3/envs/openbb_all/lib/python3.11/site-packages (from python-dateutil>=2.8.2->pandas>=0.23->pandas_datareader) (1.16.0)\n"
     ]
    }
   ],
   "source": [
    "!pip install pandas_datareader"
   ]
  },
  {
   "cell_type": "code",
   "execution_count": 19,
   "id": "dceb538c",
   "metadata": {},
   "outputs": [],
   "source": [
    "import warnings"
   ]
  },
  {
   "cell_type": "code",
   "execution_count": 20,
   "id": "c8244873",
   "metadata": {},
   "outputs": [],
   "source": [
    "import numpy as np\n",
    "import pandas as pd\n",
    "import pandas_datareader as pdr\n",
    "import statsmodels.api as sm\n",
    "from IPython.display import Markdown, display\n",
    "from openbb import obb\n",
    "from statsmodels import regression\n",
    "from statsmodels.regression.rolling import RollingOLS"
   ]
  },
  {
   "cell_type": "code",
   "execution_count": 21,
   "id": "eca3e74b",
   "metadata": {},
   "outputs": [],
   "source": [
    "warnings.filterwarnings(\"ignore\")\n",
    "obb.user.preferences.output_type = \"dataframe\""
   ]
  },
  {
   "cell_type": "markdown",
   "id": "77c2a960",
   "metadata": {},
   "source": [
    "Define the stock symbols including the benchmark \"SPY\""
   ]
  },
  {
   "cell_type": "code",
   "execution_count": 22,
   "id": "1dece335",
   "metadata": {},
   "outputs": [],
   "source": [
    "symbols = [\"NEM\", \"RGLD\", \"SSRM\", \"CDE\", \"LLY\", \"UNH\", \"JNJ\", \"MRK\", \"SPY\",\"GOOG\",\"META\"]"
   ]
  },
  {
   "cell_type": "markdown",
   "id": "e2a7f2ba",
   "metadata": {},
   "source": [
    "Fetch historical price data for the defined symbols from 2015-01-01 to 2022-12-31 using the \"yfinance\" provider"
   ]
  },
  {
   "cell_type": "code",
   "execution_count": 23,
   "id": "1050e6b6",
   "metadata": {},
   "outputs": [],
   "source": [
    "data = obb.equity.price.historical(\n",
    "    symbols,\n",
    "    start_date=\"2015-01-01\",\n",
    "    end_date=\"2022-12-31\",\n",
    "    provider=\"yfinance\",\n",
    ").pivot(columns=\"symbol\", values=\"close\")"
   ]
  },
  {
   "cell_type": "markdown",
   "id": "de812d93",
   "metadata": {},
   "source": [
    "Calculate the monthly percentage returns and convert the index to a monthly period"
   ]
  },
  {
   "cell_type": "code",
   "execution_count": 24,
   "id": "99c44acc",
   "metadata": {},
   "outputs": [],
   "source": [
    "monthly_returns = data.asfreq(\"ME\").pct_change(fill_method=None).to_period(\"M\")"
   ]
  },
  {
   "cell_type": "markdown",
   "id": "f81bcd76",
   "metadata": {},
   "source": [
    "Separate the benchmark returns from the portfolio returns"
   ]
  },
  {
   "cell_type": "code",
   "execution_count": 25,
   "id": "4ffccfd5",
   "metadata": {},
   "outputs": [],
   "source": [
    "bench = monthly_returns.pop(\"SPY\")\n",
    "R = monthly_returns.mean(axis=1)\n",
    "active = (R - bench).dropna()"
   ]
  },
  {
   "cell_type": "markdown",
   "id": "f605a54c",
   "metadata": {},
   "source": [
    "Fetch the Fama-French factors data"
   ]
  },
  {
   "cell_type": "code",
   "execution_count": 26,
   "id": "b1fb7da7",
   "metadata": {},
   "outputs": [],
   "source": [
    "factors = (\n",
    "    pdr.get_data_famafrench(\n",
    "        \"F-F_Research_Data_Factors\",\n",
    "        start=\"2015-01-01\",\n",
    "        end=\"2022-12-31\",\n",
    "    )[0][1:]\n",
    "    / 100\n",
    ")\n",
    "SMB = factors.loc[active.index, \"SMB\"]\n",
    "HML = factors.loc[active.index, \"HML\"]"
   ]
  },
  {
   "cell_type": "code",
   "execution_count": 27,
   "id": "8e1d05d4",
   "metadata": {},
   "outputs": [
    {
     "name": "stdout",
     "output_type": "stream",
     "text": [
      "Help on function get_data_famafrench in module pandas_datareader.data:\n",
      "\n",
      "get_data_famafrench(*args, **kwargs)\n",
      "\n"
     ]
    }
   ],
   "source": [
    "help(pdr.get_data_famafrench)"
   ]
  },
  {
   "cell_type": "markdown",
   "id": "308ef64a",
   "metadata": {},
   "source": [
    "Create a DataFrame with the active returns and Fama-French factors"
   ]
  },
  {
   "cell_type": "code",
   "execution_count": 28,
   "id": "1dec3ba7",
   "metadata": {},
   "outputs": [],
   "source": [
    "df = pd.DataFrame(\n",
    "    {\n",
    "        \"R\": active,\n",
    "        \"SMB\": SMB,\n",
    "        \"HML\": HML,\n",
    "    },\n",
    "    index=active.index,\n",
    ").dropna()"
   ]
  },
  {
   "cell_type": "code",
   "execution_count": 29,
   "id": "da57ec82",
   "metadata": {},
   "outputs": [
    {
     "data": {
      "text/html": [
       "<div>\n",
       "<style scoped>\n",
       "    .dataframe tbody tr th:only-of-type {\n",
       "        vertical-align: middle;\n",
       "    }\n",
       "\n",
       "    .dataframe tbody tr th {\n",
       "        vertical-align: top;\n",
       "    }\n",
       "\n",
       "    .dataframe thead th {\n",
       "        text-align: right;\n",
       "    }\n",
       "</style>\n",
       "<table border=\"1\" class=\"dataframe\">\n",
       "  <thead>\n",
       "    <tr style=\"text-align: right;\">\n",
       "      <th></th>\n",
       "      <th>R</th>\n",
       "      <th>SMB</th>\n",
       "      <th>HML</th>\n",
       "    </tr>\n",
       "    <tr>\n",
       "      <th>date</th>\n",
       "      <th></th>\n",
       "      <th></th>\n",
       "      <th></th>\n",
       "    </tr>\n",
       "  </thead>\n",
       "  <tbody>\n",
       "    <tr>\n",
       "      <th>2015-04</th>\n",
       "      <td>0.035027</td>\n",
       "      <td>-0.0306</td>\n",
       "      <td>0.0182</td>\n",
       "    </tr>\n",
       "    <tr>\n",
       "      <th>2015-07</th>\n",
       "      <td>-0.076926</td>\n",
       "      <td>-0.0417</td>\n",
       "      <td>-0.0413</td>\n",
       "    </tr>\n",
       "    <tr>\n",
       "      <th>2015-08</th>\n",
       "      <td>0.034981</td>\n",
       "      <td>0.0033</td>\n",
       "      <td>0.0277</td>\n",
       "    </tr>\n",
       "    <tr>\n",
       "      <th>2015-09</th>\n",
       "      <td>-0.000779</td>\n",
       "      <td>-0.0262</td>\n",
       "      <td>0.0056</td>\n",
       "    </tr>\n",
       "    <tr>\n",
       "      <th>2015-12</th>\n",
       "      <td>0.028582</td>\n",
       "      <td>-0.0285</td>\n",
       "      <td>-0.0261</td>\n",
       "    </tr>\n",
       "    <tr>\n",
       "      <th>2016-03</th>\n",
       "      <td>0.022948</td>\n",
       "      <td>0.0082</td>\n",
       "      <td>0.0119</td>\n",
       "    </tr>\n",
       "    <tr>\n",
       "      <th>2016-06</th>\n",
       "      <td>0.147039</td>\n",
       "      <td>0.0061</td>\n",
       "      <td>-0.0148</td>\n",
       "    </tr>\n",
       "    <tr>\n",
       "      <th>2016-09</th>\n",
       "      <td>0.016630</td>\n",
       "      <td>0.0212</td>\n",
       "      <td>-0.0124</td>\n",
       "    </tr>\n",
       "    <tr>\n",
       "      <th>2016-10</th>\n",
       "      <td>-0.025845</td>\n",
       "      <td>-0.0440</td>\n",
       "      <td>0.0409</td>\n",
       "    </tr>\n",
       "    <tr>\n",
       "      <th>2016-11</th>\n",
       "      <td>-0.081678</td>\n",
       "      <td>0.0571</td>\n",
       "      <td>0.0821</td>\n",
       "    </tr>\n",
       "    <tr>\n",
       "      <th>2017-02</th>\n",
       "      <td>-0.043627</td>\n",
       "      <td>-0.0205</td>\n",
       "      <td>-0.0167</td>\n",
       "    </tr>\n",
       "    <tr>\n",
       "      <th>2017-03</th>\n",
       "      <td>-0.000253</td>\n",
       "      <td>0.0114</td>\n",
       "      <td>-0.0335</td>\n",
       "    </tr>\n",
       "    <tr>\n",
       "      <th>2017-06</th>\n",
       "      <td>-0.010050</td>\n",
       "      <td>0.0225</td>\n",
       "      <td>0.0148</td>\n",
       "    </tr>\n",
       "    <tr>\n",
       "      <th>2017-07</th>\n",
       "      <td>0.020152</td>\n",
       "      <td>-0.0150</td>\n",
       "      <td>-0.0031</td>\n",
       "    </tr>\n",
       "    <tr>\n",
       "      <th>2017-08</th>\n",
       "      <td>0.025348</td>\n",
       "      <td>-0.0167</td>\n",
       "      <td>-0.0210</td>\n",
       "    </tr>\n",
       "    <tr>\n",
       "      <th>2017-11</th>\n",
       "      <td>-0.031888</td>\n",
       "      <td>-0.0054</td>\n",
       "      <td>-0.0003</td>\n",
       "    </tr>\n",
       "    <tr>\n",
       "      <th>2018-02</th>\n",
       "      <td>-0.022072</td>\n",
       "      <td>0.0026</td>\n",
       "      <td>-0.0104</td>\n",
       "    </tr>\n",
       "    <tr>\n",
       "      <th>2018-05</th>\n",
       "      <td>0.003213</td>\n",
       "      <td>0.0526</td>\n",
       "      <td>-0.0322</td>\n",
       "    </tr>\n",
       "    <tr>\n",
       "      <th>2018-08</th>\n",
       "      <td>-0.071866</td>\n",
       "      <td>0.0115</td>\n",
       "      <td>-0.0400</td>\n",
       "    </tr>\n",
       "    <tr>\n",
       "      <th>2018-11</th>\n",
       "      <td>-0.003122</td>\n",
       "      <td>-0.0068</td>\n",
       "      <td>0.0028</td>\n",
       "    </tr>\n",
       "    <tr>\n",
       "      <th>2018-12</th>\n",
       "      <td>0.102457</td>\n",
       "      <td>-0.0237</td>\n",
       "      <td>-0.0188</td>\n",
       "    </tr>\n",
       "    <tr>\n",
       "      <th>2019-01</th>\n",
       "      <td>-0.003395</td>\n",
       "      <td>0.0288</td>\n",
       "      <td>-0.0045</td>\n",
       "    </tr>\n",
       "    <tr>\n",
       "      <th>2019-02</th>\n",
       "      <td>-0.032993</td>\n",
       "      <td>0.0206</td>\n",
       "      <td>-0.0271</td>\n",
       "    </tr>\n",
       "    <tr>\n",
       "      <th>2019-05</th>\n",
       "      <td>0.032206</td>\n",
       "      <td>-0.0131</td>\n",
       "      <td>-0.0237</td>\n",
       "    </tr>\n",
       "    <tr>\n",
       "      <th>2019-10</th>\n",
       "      <td>0.027153</td>\n",
       "      <td>0.0029</td>\n",
       "      <td>-0.0190</td>\n",
       "    </tr>\n",
       "    <tr>\n",
       "      <th>2020-01</th>\n",
       "      <td>-0.031298</td>\n",
       "      <td>-0.0313</td>\n",
       "      <td>-0.0625</td>\n",
       "    </tr>\n",
       "    <tr>\n",
       "      <th>2020-04</th>\n",
       "      <td>0.113925</td>\n",
       "      <td>0.0245</td>\n",
       "      <td>-0.0134</td>\n",
       "    </tr>\n",
       "    <tr>\n",
       "      <th>2020-07</th>\n",
       "      <td>0.052593</td>\n",
       "      <td>-0.0230</td>\n",
       "      <td>-0.0144</td>\n",
       "    </tr>\n",
       "    <tr>\n",
       "      <th>2020-08</th>\n",
       "      <td>-0.039833</td>\n",
       "      <td>-0.0028</td>\n",
       "      <td>-0.0288</td>\n",
       "    </tr>\n",
       "    <tr>\n",
       "      <th>2020-09</th>\n",
       "      <td>-0.028904</td>\n",
       "      <td>-0.0003</td>\n",
       "      <td>-0.0265</td>\n",
       "    </tr>\n",
       "    <tr>\n",
       "      <th>2020-12</th>\n",
       "      <td>0.049505</td>\n",
       "      <td>0.0479</td>\n",
       "      <td>-0.0134</td>\n",
       "    </tr>\n",
       "    <tr>\n",
       "      <th>2021-04</th>\n",
       "      <td>-0.017325</td>\n",
       "      <td>-0.0320</td>\n",
       "      <td>-0.0095</td>\n",
       "    </tr>\n",
       "    <tr>\n",
       "      <th>2021-09</th>\n",
       "      <td>-0.040115</td>\n",
       "      <td>0.0067</td>\n",
       "      <td>0.0510</td>\n",
       "    </tr>\n",
       "    <tr>\n",
       "      <th>2021-12</th>\n",
       "      <td>0.004582</td>\n",
       "      <td>-0.0164</td>\n",
       "      <td>0.0322</td>\n",
       "    </tr>\n",
       "    <tr>\n",
       "      <th>2022-01</th>\n",
       "      <td>0.010961</td>\n",
       "      <td>-0.0596</td>\n",
       "      <td>0.1280</td>\n",
       "    </tr>\n",
       "    <tr>\n",
       "      <th>2022-02</th>\n",
       "      <td>0.027630</td>\n",
       "      <td>0.0219</td>\n",
       "      <td>0.0310</td>\n",
       "    </tr>\n",
       "    <tr>\n",
       "      <th>2022-03</th>\n",
       "      <td>0.061121</td>\n",
       "      <td>-0.0166</td>\n",
       "      <td>-0.0176</td>\n",
       "    </tr>\n",
       "    <tr>\n",
       "      <th>2022-06</th>\n",
       "      <td>0.016834</td>\n",
       "      <td>0.0218</td>\n",
       "      <td>-0.0610</td>\n",
       "    </tr>\n",
       "    <tr>\n",
       "      <th>2022-09</th>\n",
       "      <td>0.110923</td>\n",
       "      <td>-0.0082</td>\n",
       "      <td>0.0002</td>\n",
       "    </tr>\n",
       "    <tr>\n",
       "      <th>2022-10</th>\n",
       "      <td>-0.062010</td>\n",
       "      <td>0.0007</td>\n",
       "      <td>0.0806</td>\n",
       "    </tr>\n",
       "    <tr>\n",
       "      <th>2022-11</th>\n",
       "      <td>0.023544</td>\n",
       "      <td>-0.0351</td>\n",
       "      <td>0.0141</td>\n",
       "    </tr>\n",
       "  </tbody>\n",
       "</table>\n",
       "</div>"
      ],
      "text/plain": [
       "                R     SMB     HML\n",
       "date                             \n",
       "2015-04  0.035027 -0.0306  0.0182\n",
       "2015-07 -0.076926 -0.0417 -0.0413\n",
       "2015-08  0.034981  0.0033  0.0277\n",
       "2015-09 -0.000779 -0.0262  0.0056\n",
       "2015-12  0.028582 -0.0285 -0.0261\n",
       "2016-03  0.022948  0.0082  0.0119\n",
       "2016-06  0.147039  0.0061 -0.0148\n",
       "2016-09  0.016630  0.0212 -0.0124\n",
       "2016-10 -0.025845 -0.0440  0.0409\n",
       "2016-11 -0.081678  0.0571  0.0821\n",
       "2017-02 -0.043627 -0.0205 -0.0167\n",
       "2017-03 -0.000253  0.0114 -0.0335\n",
       "2017-06 -0.010050  0.0225  0.0148\n",
       "2017-07  0.020152 -0.0150 -0.0031\n",
       "2017-08  0.025348 -0.0167 -0.0210\n",
       "2017-11 -0.031888 -0.0054 -0.0003\n",
       "2018-02 -0.022072  0.0026 -0.0104\n",
       "2018-05  0.003213  0.0526 -0.0322\n",
       "2018-08 -0.071866  0.0115 -0.0400\n",
       "2018-11 -0.003122 -0.0068  0.0028\n",
       "2018-12  0.102457 -0.0237 -0.0188\n",
       "2019-01 -0.003395  0.0288 -0.0045\n",
       "2019-02 -0.032993  0.0206 -0.0271\n",
       "2019-05  0.032206 -0.0131 -0.0237\n",
       "2019-10  0.027153  0.0029 -0.0190\n",
       "2020-01 -0.031298 -0.0313 -0.0625\n",
       "2020-04  0.113925  0.0245 -0.0134\n",
       "2020-07  0.052593 -0.0230 -0.0144\n",
       "2020-08 -0.039833 -0.0028 -0.0288\n",
       "2020-09 -0.028904 -0.0003 -0.0265\n",
       "2020-12  0.049505  0.0479 -0.0134\n",
       "2021-04 -0.017325 -0.0320 -0.0095\n",
       "2021-09 -0.040115  0.0067  0.0510\n",
       "2021-12  0.004582 -0.0164  0.0322\n",
       "2022-01  0.010961 -0.0596  0.1280\n",
       "2022-02  0.027630  0.0219  0.0310\n",
       "2022-03  0.061121 -0.0166 -0.0176\n",
       "2022-06  0.016834  0.0218 -0.0610\n",
       "2022-09  0.110923 -0.0082  0.0002\n",
       "2022-10 -0.062010  0.0007  0.0806\n",
       "2022-11  0.023544 -0.0351  0.0141"
      ]
     },
     "metadata": {},
     "output_type": "display_data"
    }
   ],
   "source": [
    "display(df)"
   ]
  },
  {
   "cell_type": "markdown",
   "id": "e1919be6",
   "metadata": {},
   "source": [
    "Perform linear regression to estimate the sensitivities of active returns to the factors"
   ]
  },
  {
   "cell_type": "code",
   "execution_count": 30,
   "id": "892d7ae7",
   "metadata": {},
   "outputs": [],
   "source": [
    "b1, b2 = regression.linear_model.OLS(df.R, df[[\"SMB\", \"HML\"]]).fit().params"
   ]
  },
  {
   "cell_type": "code",
   "execution_count": 31,
   "id": "5bee5d94",
   "metadata": {},
   "outputs": [
    {
     "data": {
      "text/plain": [
       "'Sensitivities of active returns to factors:\\nSMB: -0.09592633229212937\\nHML: -0.1893761120061182'"
      ]
     },
     "metadata": {},
     "output_type": "display_data"
    }
   ],
   "source": [
    "display(f\"Sensitivities of active returns to factors:\\nSMB: {b1}\\nHML: {b2}\")"
   ]
  },
  {
   "cell_type": "markdown",
   "id": "2637022e",
   "metadata": {},
   "source": [
    "Perform rolling regression to estimate the time-varying sensitivities"
   ]
  },
  {
   "cell_type": "code",
   "execution_count": 32,
   "id": "46f677d8",
   "metadata": {},
   "outputs": [
    {
     "data": {
      "image/png": "[encoded data removed]",
      "text/plain": [
       "<Figure size 550x660 with 2 Axes>"
      ]
     },
     "metadata": {},
     "output_type": "display_data"
    }
   ],
   "source": [
    "exog = sm.add_constant(df[[\"SMB\", \"HML\"]])\n",
    "rols = RollingOLS(active, exog, window=12)\n",
    "rres = rols.fit()\n",
    "fig = rres.plot_recursive_coefficient(variables=[\"SMB\", \"HML\"], figsize=(5.5, 6.6))"
   ]
  },
  {
   "cell_type": "markdown",
   "id": "17619987",
   "metadata": {},
   "source": [
    "Estimate the marginal contributions to active risk (MCAR)"
   ]
  },
  {
   "cell_type": "code",
   "execution_count": 33,
   "id": "a3184e61",
   "metadata": {},
   "outputs": [],
   "source": [
    "F1 = df.SMB\n",
    "F2 = df.HML\n",
    "cov = np.cov(F1, F2)\n",
    "ar_squared = (active.std()) ** 2\n",
    "mcar1 = (b1 * (b2 * cov[0, 1] + b1 * cov[0, 0])) / ar_squared\n",
    "mcar2 = (b2 * (b1 * cov[0, 1] + b2 * cov[1, 1])) / ar_squared"
   ]
  },
  {
   "cell_type": "code",
   "execution_count": 34,
   "id": "09d3ba36",
   "metadata": {},
   "outputs": [
    {
     "data": {
      "text/plain": [
       "'SMB risk contribution: 0.0017545604588257535'"
      ]
     },
     "metadata": {},
     "output_type": "display_data"
    },
    {
     "data": {
      "text/plain": [
       "'HML risk contribution: 0.0189006137410065'"
      ]
     },
     "metadata": {},
     "output_type": "display_data"
    },
    {
     "data": {
      "text/plain": [
       "'Unexplained risk contribution: 0.9793448258001678'"
      ]
     },
     "metadata": {},
     "output_type": "display_data"
    }
   ],
   "source": [
    "display(f\"SMB risk contribution: {mcar1}\")\n",
    "display(f\"HML risk contribution: {mcar2}\")\n",
    "display(f\"Unexplained risk contribution: {1 - (mcar1 + mcar2)}\")"
   ]
  },
  {
   "cell_type": "markdown",
   "id": "b0db48cb",
   "metadata": {},
   "source": [
    "Calculate the rolling covariances and active risk squared"
   ]
  },
  {
   "cell_type": "code",
   "execution_count": 35,
   "id": "bcd74815",
   "metadata": {},
   "outputs": [],
   "source": [
    "covariances = (df[[\"SMB\", \"HML\"]].rolling(window=12).cov()).dropna()"
   ]
  },
  {
   "cell_type": "code",
   "execution_count": 36,
   "id": "085f739c",
   "metadata": {},
   "outputs": [],
   "source": [
    "active_risk_squared = (active.rolling(window=12).std() ** 2).dropna()"
   ]
  },
  {
   "cell_type": "markdown",
   "id": "8c33fc3b",
   "metadata": {},
   "source": [
    "Calculate the rolling betas"
   ]
  },
  {
   "cell_type": "code",
   "execution_count": 37,
   "id": "5a4776bc",
   "metadata": {},
   "outputs": [],
   "source": [
    "betas = pd.concat([rres.params.SMB, rres.params.HML], axis=1).dropna()"
   ]
  },
  {
   "cell_type": "markdown",
   "id": "d725d267",
   "metadata": {},
   "source": [
    "Create a DataFrame to store the MCAR estimates"
   ]
  },
  {
   "cell_type": "code",
   "execution_count": 38,
   "id": "ae225377",
   "metadata": {},
   "outputs": [],
   "source": [
    "MCAR = pd.DataFrame(index=betas.index, columns=betas.columns)"
   ]
  },
  {
   "cell_type": "markdown",
   "id": "838e34ef",
   "metadata": {},
   "source": [
    "Calculate the MCAR for each factor at each time point"
   ]
  },
  {
   "cell_type": "code",
   "execution_count": 39,
   "id": "528ff4bc",
   "metadata": {},
   "outputs": [],
   "source": [
    "for factor in betas.columns:\n",
    "    for t in betas.index:\n",
    "        # Compute the sum of the betas and covariances\n",
    "        s = np.sum(betas.loc[t] * covariances.loc[t][factor])\n",
    "        # Get the beta\n",
    "        b = betas.loc[t][factor]\n",
    "        # Get active risk squared\n",
    "        AR = active_risk_squared.loc[t]\n",
    "        # Put them all together to estimate FMCAR on that date\n",
    "        MCAR[factor][t] = b * s / AR"
   ]
  },
  {
   "cell_type": "markdown",
   "id": "7548de81",
   "metadata": {},
   "source": [
    "Plot the MCAR estimates for each factor"
   ]
  },
  {
   "cell_type": "code",
   "execution_count": 40,
   "id": "ce15f485",
   "metadata": {},
   "outputs": [
    {
     "data": {
      "text/plain": [
       "<Axes: xlabel='date'>"
      ]
     },
     "execution_count": 40,
     "metadata": {},
     "output_type": "execute_result"
    },
    {
     "data": {
      "image/png": "[encoded data removed]",
      "text/plain": [
       "<Figure size 640x480 with 1 Axes>"
      ]
     },
     "metadata": {},
     "output_type": "display_data"
    }
   ],
   "source": [
    "MCAR.SMB.plot()\n",
    "MCAR.HML.plot()"
   ]
  },
  {
   "cell_type": "markdown",
   "id": "f4e7303d",
   "metadata": {},
   "source": [
    "Plot the unexplained risk contribution"
   ]
  },
  {
   "cell_type": "code",
   "execution_count": null,
   "id": "8c68b430",
   "metadata": {},
   "outputs": [],
   "source": [
    "(1 - (MCAR.SMB + MCAR.HML)).plot()"
   ]
  },
  {
   "cell_type": "markdown",
   "id": "e6bec809",
   "metadata": {},
   "source": [
    "**Jason Strimpel** is the founder of <a href='https://pyquantnews.com/'>PyQuant News</a> and co-founder of <a href='https://www.tradeblotter.io/'>Trade Blotter</a>. His career in algorithmic trading spans 20+ years. He previously traded for a Chicago-based hedge fund, was a risk manager at JPMorgan, and managed production risk technology for an energy derivatives trading firm in London. In Singapore, he served as APAC CIO for an agricultural trading firm and built the data science team for a global metals trading firm. Jason holds degrees in Finance and Economics and a Master's in Quantitative Finance from the Illinois Institute of Technology. His career spans America, Europe, and Asia. He shares his expertise through the <a href='https://pyquantnews.com/subscribe-to-the-pyquant-newsletter/'>PyQuant Newsletter</a>, social media, and has taught over 1,000+ algorithmic trading with Python in his popular course **<a href='https://gettingstartedwithpythonforquantfinance.com/'>Getting Started With Python for Quant Finance</a>**. All code is for educational purposes only. Nothing provided here is financial advise. Use at your own risk."
   ]
  },
  {
   "cell_type": "code",
   "execution_count": null,
   "id": "cb2aba47-53d1-4a2f-b855-2ba1ac0bfe10",
   "metadata": {},
   "outputs": [],
   "source": []
  }
 ],
 "metadata": {
  "jupytext": {
   "cell_metadata_filter": "-all",
   "main_language": "python",
   "notebook_metadata_filter": "-all"
  },
  "kernelspec": {
   "display_name": "openbb_all",
   "language": "python",
   "name": "python3"
  },
  "language_info": {
   "codemirror_mode": {
    "name": "ipython",
    "version": 3
   },
   "file_extension": ".py",
   "mimetype": "text/x-python",
   "name": "python",
   "nbconvert_exporter": "python",
   "pygments_lexer": "ipython3",
   "version": "3.11.10"
  }
 },
 "nbformat": 4,
 "nbformat_minor": 5
}
