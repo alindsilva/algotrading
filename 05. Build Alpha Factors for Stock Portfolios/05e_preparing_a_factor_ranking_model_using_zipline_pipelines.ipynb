{
 "cells": [
  {
   "cell_type": "markdown",
   "id": "1004e8c5",
   "metadata": {},
   "source": [
    "## Preparing a Factor Ranking Model Using Zipline Pipelines"
   ]
  },
  {
   "cell_type": "code",
   "execution_count": 1,
   "id": "0f9240f8",
   "metadata": {},
   "outputs": [],
   "source": [
    "import os\n",
    "import warnings"
   ]
  },
  {
   "cell_type": "code",
   "execution_count": 3,
   "id": "b7692a0e",
   "metadata": {},
   "outputs": [],
   "source": [
    "import numpy as np\n",
    "import pandas as pd\n",
    "from IPython.display import Markdown, display\n",
    "from zipline.data import bundles\n",
    "from zipline.data.bundles.core import load\n",
    "from zipline.pipeline import Pipeline\n",
    "from zipline.utils.run_algo import load_extensions\n",
    "from zipline.pipeline.data import USEquityPricing\n",
    "from zipline.pipeline.engine import SimplePipelineEngine\n",
    "from zipline.pipeline.factors import (\n",
    "    VWAP,\n",
    "    AnnualizedVolatility,\n",
    "    AverageDollarVolume,\n",
    "    BollingerBands,\n",
    "    CustomFactor,\n",
    "    DailyReturns,\n",
    "    ExponentialWeightedMovingAverage,\n",
    "    MaxDrawdown,\n",
    "    PercentChange,\n",
    "    Returns,\n",
    "    SimpleMovingAverage,\n",
    "    WeightedAverageValue,\n",
    "    Latest,\n",
    "    TrueRange,\n",
    ")\n",
    "from zipline.pipeline.loaders import USEquityPricingLoader\n",
    "import exchange_calendars as xcals"
   ]
  },
  {
   "cell_type": "code",
   "execution_count": 4,
   "id": "cd6b77d0",
   "metadata": {},
   "outputs": [],
   "source": [
    "warnings.filterwarnings(\"ignore\")"
   ]
  },
  {
   "cell_type": "markdown",
   "id": "010eb64b",
   "metadata": {},
   "source": [
    "### Option 1: Use the built-in bundle with free data\n",
    "\n",
    "This option uses the built-in data bundle provided by Zipline. It then acquires free US equities data that extend through 2018."
   ]
  },
  {
   "cell_type": "code",
   "execution_count": 4,
   "id": "a981f03d",
   "metadata": {},
   "outputs": [],
   "source": [
    "#os.environ[\"QUANDL_API_KEY\"] = \"unvCDgkmsr-UjQkKkzs9\"\n",
    "#bundle = \"quandl\"\n",
    "#bundles.ingest(bundle)"
   ]
  },
  {
   "cell_type": "markdown",
   "id": "b77845f5",
   "metadata": {},
   "source": [
    "### Option 2: Use the custom bundle with premium data\n",
    "\n",
    "This option uses the custom bundle with premium data. Follow the steps here: https://pyquantnews.com/ingest-premium-market-data-with-zipline-reloaded/ before using."
   ]
  },
  {
   "cell_type": "code",
   "execution_count": 5,
   "id": "1634cf05",
   "metadata": {},
   "outputs": [],
   "source": [
    "os.environ[\"DATALINK_API_KEY\"] = \"unvCDgkmsr-UjQkKkzs9\"\n",
    "bundle = \"quotemedia\"\n",
    "\n",
    "#from zipline import load_extensions\n",
    "\n",
    "load_extensions(\n",
    "    default=True,            # Load default extensions\n",
    "    extensions=[],           # List of additional extensions\n",
    "    strict=True,             # Raise errors if extensions fail to load\n",
    "    environ=os.environ,      # Environment variables\n",
    ")\n"
   ]
  },
  {
   "cell_type": "code",
   "execution_count": 6,
   "id": "ed5958a3",
   "metadata": {},
   "outputs": [],
   "source": [
    "#bundles.ingest(bundle)"
   ]
  },
  {
   "cell_type": "markdown",
   "id": "c1535763-cc66-47b3-9f0b-c2e32859ca82",
   "metadata": {},
   "source": [
    "Ingest the bundle data from your selected bundle."
   ]
  },
  {
   "cell_type": "code",
   "execution_count": 6,
   "id": "f15952fe-6ca1-4a1b-b624-56f83e535f8b",
   "metadata": {},
   "outputs": [],
   "source": [
    "bundle_data = load(bundle, os.environ, None)"
   ]
  },
  {
   "cell_type": "markdown",
   "id": "a5229994",
   "metadata": {},
   "source": [
    "Create a USEquityPricingLoader"
   ]
  },
  {
   "cell_type": "code",
   "execution_count": 7,
   "id": "80e9a003",
   "metadata": {},
   "outputs": [],
   "source": [
    "pipeline_loader = USEquityPricingLoader(\n",
    "    bundle_data.equity_daily_bar_reader, bundle_data.adjustment_reader, fx_reader=None\n",
    ")"
   ]
  },
  {
   "cell_type": "markdown",
   "id": "9b6ad050",
   "metadata": {},
   "source": [
    "Initialize a SimplePipelineEngine"
   ]
  },
  {
   "cell_type": "code",
   "execution_count": 8,
   "id": "7b9758e6",
   "metadata": {},
   "outputs": [],
   "source": [
    "engine = SimplePipelineEngine(\n",
    "    get_loader=lambda col: pipeline_loader, asset_finder=bundle_data.asset_finder\n",
    ")"
   ]
  },
  {
   "cell_type": "markdown",
   "id": "065e4f3e",
   "metadata": {
    "lines_to_next_cell": 2
   },
   "source": [
    "Define a custom momentum factor"
   ]
  },
  {
   "cell_type": "code",
   "execution_count": 9,
   "id": "e67c31b0",
   "metadata": {
    "lines_to_next_cell": 2
   },
   "outputs": [],
   "source": [
    "class MomentumFactor(CustomFactor):\n",
    "    \"\"\"Momentum factor\"\"\"\n",
    "\n",
    "    inputs = [USEquityPricing.close, Returns(window_length=126)]\n",
    "    window_length = 252\n",
    "\n",
    "    def compute(self, today, assets, out, prices, returns):\n",
    "        out[:] = (\n",
    "            (prices[-21] - prices[-252]) / prices[-252]\n",
    "            - (prices[-1] - prices[-21]) / prices[-21]\n",
    "        ) / np.nanstd(returns, axis=0)"
   ]
  },
  {
   "cell_type": "markdown",
   "id": "6f1bf5b2",
   "metadata": {
    "lines_to_next_cell": 2
   },
   "source": [
    "Define a function to create a pipeline"
   ]
  },
  {
   "cell_type": "code",
   "execution_count": 11,
   "id": "8d58e82f",
   "metadata": {},
   "outputs": [],
   "source": [
    "def make_pipeline():\n",
    "    momentum = MomentumFactor()\n",
    "    dollar_volume = AverageDollarVolume(window_length=30)\n",
    "    close_price = Latest(inputs=[USEquityPricing.close])\n",
    "\n",
    "    # Calculate the 21-day returns\n",
    "    returns_21 = Returns(window_length=21)\n",
    "    returns_09 = Returns(window_length=9)\n",
    "\n",
    "    # Define the longs and shorts based on the direction of the 21-day returns\n",
    "    longs = (returns_21 > 0) & momentum.top(50)\n",
    "    shorts = (returns_09 < 0) & momentum.bottom(50)\n",
    "\n",
    "    return Pipeline(\n",
    "        columns={\n",
    "            \"factor\": momentum,\n",
    "            \"longs\": momentum.top(50),\n",
    "            #\"longs\": longs,\n",
    "            \"shorts\": momentum.bottom(50),\n",
    "            #\"shorts\": shorts,\n",
    "            \"rank\": momentum.rank(),\n",
    "        },\n",
    "        #screen=dollar_volume.top(3000),\n",
    "        screen=(close_price > 5) & (dollar_volume.top(3000)),\n",
    "    )"
   ]
  },
  {
   "cell_type": "markdown",
   "id": "995e99c2",
   "metadata": {},
   "source": [
    "Run the pipeline"
   ]
  },
  {
   "cell_type": "code",
   "execution_count": 7,
   "id": "45a9f740",
   "metadata": {},
   "outputs": [
    {
     "name": "stdout",
     "output_type": "stream",
     "text": [
      "Today is a weekend, using last Friday's date: 2024-12-27\n",
      "Is 2024-12-27 a trading day? True\n",
      "Start date: 2023-12-27\n",
      "End date: 2024-12-19\n"
     ]
    }
   ],
   "source": [
    "import calendar\n",
    "\n",
    "#xnys = xcals.get_calendar(\"XNYS\")\n",
    "#today = pd.Timestamp.today().strftime(\"%Y-%m-%d\")\n",
    "#start_date = xnys.session_offset(today, count=-252).strftime(\"%Y-%m-%d\")\n",
    "#end_date = xnys.session_offset(today, count=-1).strftime(\"%Y-%m-%d\")\n",
    "\n",
    "xnys = xcals.get_calendar(\"XNYS\")\n",
    "#today = pd.Timestamp.today().strftime(\"%Y-%m-%d\")\n",
    "today = pd.Timestamp.today()\n",
    "\n",
    "# Check if a specific date is a trading session\n",
    "# date = pd.Timestamp(\"2024-12-28\")\n",
    "\n",
    "# Function to get the last Friday's date\n",
    "def get_last_friday(date):\n",
    "    while date.weekday() != calendar.FRIDAY:  # 4 represents Friday\n",
    "        date -= pd.Timedelta(days=1)\n",
    "    return date\n",
    "\n",
    "# Check if today is a weekend\n",
    "if today.weekday() >= calendar.SATURDAY:  # 5 and 6 represent Saturday and Sunday\n",
    "    session_date = get_last_friday(today)\n",
    "    print(f\"Today is a weekend, using last Friday's date: {session_date.strftime('%Y-%m-%d')}\")\n",
    "else:\n",
    "    session_date = today\n",
    "    print(f\"Today is a weekday, using today's date: {session_date.strftime('%Y-%m-%d')}\")\n",
    "\n",
    "session_date = session_date.strftime(\"%Y-%m-%d\")\n",
    "is_trading_day = xnys.is_session(session_date)\n",
    "print(f\"Is {session_date} a trading day? {is_trading_day}\")\n",
    "\n",
    "# Get all trading sessions within a date range\n",
    "#trading_days = xnys.sessions_in_range(pd.Timestamp(\"2024-01-01\"), pd.Timestamp(\"2024-12-31\"))\n",
    "#print(f\"Trading days in 2024: {trading_days}\")\n",
    "\n",
    "# Get the trading session that is 5 sessions before a specific date\n",
    "#offset_trading_day = xnys.session_offset(previous_trading_day, count=-5)  # Use previous_trading_day here\n",
    "#print(f\"Trading day 5 sessions before 2024-12-28: {offset_trading_day}\")\n",
    "\n",
    "start_date = xnys.session_offset(session_date, count=-252).strftime(\"%Y-%m-%d\")\n",
    "end_date = xnys.session_offset(session_date, count=-5).strftime(\"%Y-%m-%d\")\n",
    "thirty_days_ago = xnys.session_offset(session_date, count=-30).strftime(\"%Y-%m-%d\")\n",
    "\n",
    "print(f\"Start date: {start_date}\")\n",
    "print(f\"End date: {end_date}\")\n",
    "\n"
   ]
  },
  {
   "cell_type": "code",
   "execution_count": null,
   "id": "ec3dcb30",
   "metadata": {},
   "outputs": [],
   "source": [
    "results = engine.run_pipeline(\n",
    "#    make_pipeline(), pd.to_datetime(\"2012-01-04\"), pd.to_datetime(\"2012-03-01\")\n",
    "    make_pipeline(), start_date, end_date\n",
    ")"
   ]
  },
  {
   "cell_type": "markdown",
   "id": "118588ac",
   "metadata": {},
   "source": [
    "Clean and display the results"
   ]
  },
  {
   "cell_type": "code",
   "execution_count": 45,
   "id": "8f0dfe8a",
   "metadata": {},
   "outputs": [],
   "source": [
    "results.dropna(subset=\"factor\", inplace=True)\n",
    "results.index.names = [\"date\", \"symbol\"]\n",
    "results.sort_values(by=[\"date\", \"factor\"], inplace=True)"
   ]
  },
  {
   "cell_type": "code",
   "execution_count": null,
   "id": "7190a1b8",
   "metadata": {},
   "outputs": [],
   "source": [
    "display(results)"
   ]
  },
  {
   "cell_type": "code",
   "execution_count": null,
   "id": "594cc0b9",
   "metadata": {},
   "outputs": [],
   "source": [
    "#    longs = results.xs(today, level=0).query(\"longs == True\")\n",
    "longs = results.xs(end_date, level=0).query(\"longs == True\")\n",
    "#longs = results.xs(pd.to_datetime(\"2012-03-01\"), level=0).query(\"longs == True\")\n",
    "\n",
    "    #    shorts = results.xs(today, level=0).query(\"shorts == True\")   \n",
    "shorts = results.xs(end_date, level=0).query(\"shorts == True\")\n",
    "#shorts = results.xs(pd.to_datetime(\"2012-03-01\"), level=0).query(\"shorts == True\")\n",
    "\n",
    "    # Print the list of long symbols\n",
    "print(f\"Long symbols: on {end_date}\", longs.index.get_level_values('symbol').tolist())\n",
    "print(f\"Short symbols: on {end_date}\", shorts.index.get_level_values('symbol').tolist())\n",
    "\n",
    "#    longs = results.xs(today, level=0).query(\"longs == True\")\n",
    "longs = results.xs(thirty_days_ago, level=0).query(\"longs == True\")\n",
    "#longs = results.xs(pd.to_datetime(\"2012-03-01\"), level=0).query(\"longs == True\")\n",
    "\n",
    "    #    shorts = results.xs(today, level=0).query(\"shorts == True\")   \n",
    "shorts = results.xs(thirty_days_ago, level=0).query(\"shorts == True\")\n",
    "#shorts = results.xs(pd.to_datetime(\"2012-03-01\"), level=0).query(\"shorts == True\")\n",
    "\n",
    "    # Print the list of long symbols\n",
    "print(f\"Long symbols: on {thirty_days_ago}\", longs.index.get_level_values('symbol').tolist())\n",
    "print(f\"Short symbols: on {thirty_days_ago}\", shorts.index.get_level_values('symbol').tolist())"
   ]
  },
  {
   "cell_type": "markdown",
   "id": "60a10a01",
   "metadata": {},
   "source": [
    "The code below is generated by Gemini"
   ]
  },
  {
   "cell_type": "code",
   "execution_count": 17,
   "id": "b7c90909",
   "metadata": {},
   "outputs": [],
   "source": [
    "class MomentumFactor(CustomFactor):\n",
    "    inputs = [USEquityPricing.close, Returns(window_length=126)]\n",
    "    window_length = 252\n",
    "\n",
    "    def compute(self, today, assets, out, prices, returns):\n",
    "        price_change = (prices[-21] - prices[-252]) / prices[-252] - (prices[-1] - prices[-21]) / prices[-21]\n",
    "        recent_returns = returns[-42:].mean(axis=0)\n",
    "        out[:] = (price_change / np.nanstd(returns, axis=0)) * np.sign(recent_returns) \n"
   ]
  },
  {
   "cell_type": "code",
   "execution_count": 18,
   "id": "7a8a261a",
   "metadata": {},
   "outputs": [],
   "source": [
    "top_n = 10\n",
    "\n",
    "def make_pipeline():\n",
    "    momentum = MomentumFactor()\n",
    "    volatility = AnnualizedVolatility(window_length=252)\n",
    "    dollar_volume = AverageDollarVolume(window_length=30)\n",
    "    close_price = Latest(inputs=[USEquityPricing.close])\n",
    "    avg_close_price = SimpleMovingAverage(inputs=[USEquityPricing.close], window_length=42)\n",
    "\n",
    "    return Pipeline(\n",
    "        columns={\n",
    "            \"momentum\": momentum,\n",
    "            \"volatility\": volatility,\n",
    "            \"momentum_rank\": momentum.rank(ascending=False),\n",
    "            \"volatility_rank\": volatility.rank(),\n",
    "            \"dollar_volume\": dollar_volume,\n",
    "            \"close_price\": close_price,\n",
    "            \"longs\": momentum.top(top_n),  \n",
    "            \"shorts\": momentum.bottom(top_n),\n",
    "            \"avg_close_price\": avg_close_price,\n",
    "        },\n",
    "        screen=(dollar_volume.top(200) & (close_price > 5) & (avg_close_price > 5)),\n",
    "    )\n"
   ]
  },
  {
   "cell_type": "code",
   "execution_count": 19,
   "id": "cff85176",
   "metadata": {},
   "outputs": [],
   "source": [
    "pipeline_loader = USEquityPricingLoader(\n",
    "        bundle_data.equity_daily_bar_reader,\n",
    "        bundle_data.adjustment_reader,\n",
    "        fx_reader=None,\n",
    "    )\n",
    "\n",
    "engine = SimplePipelineEngine(\n",
    "        get_loader=lambda col: pipeline_loader, asset_finder=bundle_data.asset_finder\n",
    "    )\n",
    "\n",
    "results = engine.run_pipeline(make_pipeline(), start_date, end_date)\n",
    "results.dropna(subset=[\"momentum\", \"volatility\"], inplace=True)\n",
    "results.index.names = [\"date\", \"symbol\"]"
   ]
  },
  {
   "cell_type": "code",
   "execution_count": 20,
   "id": "539c9ae4",
   "metadata": {},
   "outputs": [],
   "source": [
    "    # 1. Volatility Filtering\n",
    "    #\n",
    "    #    - Filters out stocks with volatility above a certain threshold (e.g., 75th percentile)\n",
    "    #    - This helps avoid extremely volatile stocks, even if they have high momentum z-scores.\n",
    "    #\n",
    "volatility_threshold = results.xs(end_date, level=0)[\"volatility\"].quantile(0.75)\n",
    "filtered_results = results.xs(end_date, level=0)[\n",
    "        results.xs(end_date, level=0)[\"volatility\"] < volatility_threshold\n",
    "    ]\n",
    "longs_filtered = filtered_results.nlargest(top_n, \"momentum_rank\")\n",
    "shorts_filtered = filtered_results.nsmallest(top_n, \"momentum_rank\")"
   ]
  },
  {
   "cell_type": "code",
   "execution_count": 21,
   "id": "dd46e1ca",
   "metadata": {},
   "outputs": [],
   "source": [
    "    # 2. Volatility-Adjusted Ranking\n",
    "    #\n",
    "    #    - Creates a combined rank that penalizes stocks with high volatility.\n",
    "    #    - Subtracts a multiple of the volatility rank from the momentum rank.\n",
    "    #    - The `volatility_penalty_factor` controls the strength of the penalty.\n",
    "    #\n",
    "volatility_penalty_factor = 0.5  # Adjust this factor as needed\n",
    "results[\"combined_rank_adjusted\"] = (\n",
    "        results[\"momentum_rank\"] - volatility_penalty_factor * results[\"volatility_rank\"]\n",
    "    )\n",
    "longs_adjusted = results.xs(end_date, level=0).nlargest(\n",
    "        top_n, \"combined_rank_adjusted\"\n",
    "    )\n",
    "shorts_adjusted = results.xs(end_date, level=0).nsmallest(\n",
    "        top_n, \"combined_rank_adjusted\"\n",
    "    )\n",
    "\n"
   ]
  },
  {
   "cell_type": "code",
   "execution_count": 22,
   "id": "dbbb3cb8",
   "metadata": {},
   "outputs": [],
   "source": [
    "    # 3. Conditional Weighting\n",
    "    #\n",
    "    #    - Dynamically adjusts the weights assigned to momentum and volatility based on the volatility level.\n",
    "    #    - Uses `np.where()` for efficient vectorized conditional logic.\n",
    "    #    - If volatility is above the median, assigns higher weight to volatility rank (e.g., 0.4) and lower weight to momentum rank (e.g., 0.6).\n",
    "    #    - If volatility is below the median, assigns lower weight to volatility rank (e.g., 0.2) and higher weight to momentum rank (e.g., 0.8).\n",
    "    #\n",
    "def conditional_weight(volatility, momentum_rank, volatility_rank, median_volatility):\n",
    "        return np.where(\n",
    "            volatility > median_volatility,\n",
    "            0.6 * momentum_rank + 0.4 * volatility_rank,\n",
    "            0.8 * momentum_rank + 0.2 * volatility_rank,\n",
    "        )\n",
    "\n",
    "median_volatility = results[\"volatility\"].median()\n",
    "\n",
    "results[\"combined_rank_conditional\"] = conditional_weight(\n",
    "        results[\"volatility\"],\n",
    "        results[\"momentum_rank\"],\n",
    "        results[\"volatility_rank\"],\n",
    "        median_volatility,\n",
    "    )\n",
    "longs_conditional = results.xs(end_date, level=0).nlargest(\n",
    "        top_n, \"combined_rank_conditional\"\n",
    "    )\n",
    "shorts_conditional = results.xs(end_date, level=0).nsmallest(\n",
    "        top_n, \"combined_rank_conditional\"\n",
    "    )\n"
   ]
  },
  {
   "cell_type": "code",
   "execution_count": 23,
   "id": "752a6afe",
   "metadata": {},
   "outputs": [
    {
     "name": "stdout",
     "output_type": "stream",
     "text": [
      "\n",
      "--- Longs ---\n",
      "Filtered: [Equity(18536 [SGOV]), Equity(5095 [CVX]), Equity(12818 [LULU]), Equity(4034 [CI]), Equity(4554 [COP]), Equity(20188 [TGT]), Equity(988 [AMGN]), Equity(20356 [TLT]), Equity(16873 [QCOM]), Equity(7216 [F])]\n",
      "Adjusted: [Equity(18536 [SGOV]), Equity(5095 [CVX]), Equity(20356 [TLT]), Equity(4554 [COP]), Equity(4034 [CI]), Equity(988 [AMGN]), Equity(10469 [IEF]), Equity(12818 [LULU]), Equity(5377 [DE]), Equity(20188 [TGT])]\n",
      "Conditional: [Equity(4538 [CONL]), Equity(17497 [RIVN]), Equity(5635 [DJT]), Equity(5407 [DELL]), Equity(19114 [SOUN]), Equity(4265 [CLSK]), Equity(12953 [MARA]), Equity(19014 [SNOW]), Equity(20692 [TSLL]), Equity(14898 [NVDL])]\n",
      "\n",
      "--- Shorts ---\n",
      "Filtered: [Equity(2473 [BIL]), Equity(2938 [BRK_B]), Equity(2937 [BRK_A]), Equity(9228 [GS]), Equity(15984 [PGR]), Equity(19247 [SPOT]), Equity(22707 [XLF]), Equity(11096 [ISRG]), Equity(11576 [JPM]), Equity(1989 [BA])]\n",
      "Adjusted: [Equity(13845 [MSTR]), Equity(1256 [APP]), Equity(21800 [VST]), Equity(5075 [CVNA]), Equity(21755 [VRT]), Equity(19247 [SPOT]), Equity(14895 [NVDA]), Equity(16178 [PLTR]), Equity(9916 [HOOD]), Equity(1989 [BA])]\n",
      "Conditional: [Equity(2473 [BIL]), Equity(2938 [BRK_B]), Equity(2937 [BRK_A]), Equity(10192 [HYG]), Equity(22707 [XLF]), Equity(11218 [IVV]), Equity(19309 [SPY]), Equity(21684 [VOO]), Equity(21826 [VTI]), Equity(15984 [PGR])]\n"
     ]
    }
   ],
   "source": [
    " # --- Print Results ---\n",
    "print(\"\\n--- Longs ---\")\n",
    "print(\"Filtered:\", longs_filtered.index.get_level_values(\"symbol\").tolist())\n",
    "print(\"Adjusted:\", longs_adjusted.index.get_level_values(\"symbol\").tolist())\n",
    "print(\"Conditional:\", longs_conditional.index.get_level_values(\"symbol\").tolist())\n",
    "\n",
    "print(\"\\n--- Shorts ---\")\n",
    "print(\"Filtered:\", shorts_filtered.index.get_level_values(\"symbol\").tolist())\n",
    "print(\"Adjusted:\", shorts_adjusted.index.get_level_values(\"symbol\").tolist())\n",
    "print(\n",
    "        \"Conditional:\", shorts_conditional.index.get_level_values(\"symbol\").tolist()\n",
    "    )"
   ]
  },
  {
   "cell_type": "markdown",
   "id": "322cb569",
   "metadata": {},
   "source": [
    "Define a function with create a pipeline with a VWAP factor"
   ]
  },
  {
   "cell_type": "code",
   "execution_count": 17,
   "id": "f0741618",
   "metadata": {},
   "outputs": [],
   "source": [
    "def make_pipeline_vwap():\n",
    "    vwap = VWAP(window_length=5)\n",
    "    dollar_volume = AverageDollarVolume(window_length=30)\n",
    "\n",
    "    return Pipeline(\n",
    "        columns={\n",
    "            \"factor\": vwap,\n",
    "            \"longs\": vwap.top(50),\n",
    "            \"shorts\": vwap.bottom(50),\n",
    "            \"rank\": vwap.rank(),\n",
    "        },\n",
    "        screen=dollar_volume.top(100),\n",
    "    )"
   ]
  },
  {
   "cell_type": "markdown",
   "id": "ee254dcc",
   "metadata": {},
   "source": [
    "Run the pipeline"
   ]
  },
  {
   "cell_type": "code",
   "execution_count": null,
   "id": "e6bc5acc",
   "metadata": {},
   "outputs": [],
   "source": [
    "results = engine.run_pipeline(\n",
    "    make_pipeline_vwap(), pd.to_datetime(\"2012-01-04\"), pd.to_datetime(\"2012-03-01\")\n",
    ")"
   ]
  },
  {
   "cell_type": "markdown",
   "id": "90a2fdc3",
   "metadata": {},
   "source": [
    "Clean and display the results"
   ]
  },
  {
   "cell_type": "code",
   "execution_count": 11,
   "id": "36fa26b8",
   "metadata": {},
   "outputs": [],
   "source": [
    "results.dropna(subset=\"factor\", inplace=True)\n",
    "results.index.names = [\"date\", \"symbol\"]\n",
    "results.sort_values(by=[\"date\", \"factor\"], inplace=True)"
   ]
  },
  {
   "cell_type": "code",
   "execution_count": null,
   "id": "f0263cb9",
   "metadata": {},
   "outputs": [],
   "source": [
    "display(results)"
   ]
  },
  {
   "cell_type": "markdown",
   "id": "8edd7c30",
   "metadata": {},
   "source": [
    "**Jason Strimpel** is the founder of <a href='https://pyquantnews.com/'>PyQuant News</a> and co-founder of <a href='https://www.tradeblotter.io/'>Trade Blotter</a>. His career in algorithmic trading spans 20+ years. He previously traded for a Chicago-based hedge fund, was a risk manager at JPMorgan, and managed production risk technology for an energy derivatives trading firm in London. In Singapore, he served as APAC CIO for an agricultural trading firm and built the data science team for a global metals trading firm. Jason holds degrees in Finance and Economics and a Master's in Quantitative Finance from the Illinois Institute of Technology. His career spans America, Europe, and Asia. He shares his expertise through the <a href='https://pyquantnews.com/subscribe-to-the-pyquant-newsletter/'>PyQuant Newsletter</a>, social media, and has taught over 1,000+ algorithmic trading with Python in his popular course **<a href='https://gettingstartedwithpythonforquantfinance.com/'>Getting Started With Python for Quant Finance</a>**. All code is for educational purposes only. Nothing provided here is financial advise. Use at your own risk."
   ]
  },
  {
   "cell_type": "code",
   "execution_count": null,
   "id": "8334f85c-3286-4e6c-b77b-bc107fde21f5",
   "metadata": {},
   "outputs": [],
   "source": []
  }
 ],
 "metadata": {
  "jupytext": {
   "cell_metadata_filter": "-all",
   "main_language": "python",
   "notebook_metadata_filter": "-all"
  },
  "kernelspec": {
   "display_name": "my_quant_stack",
   "language": "python",
   "name": "python3"
  },
  "language_info": {
   "codemirror_mode": {
    "name": "ipython",
    "version": 3
   },
   "file_extension": ".py",
   "mimetype": "text/x-python",
   "name": "python",
   "nbconvert_exporter": "python",
   "pygments_lexer": "ipython3",
   "version": "3.10.13"
  }
 },
 "nbformat": 4,
 "nbformat_minor": 5
}
