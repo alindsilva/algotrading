{
 "cells": [
  {
   "cell_type": "markdown",
   "id": "6bc7b9d8",
   "metadata": {},
   "source": [
    "## Navigating options market data with the OpenBB Platform"
   ]
  },
  {
   "cell_type": "code",
   "execution_count": 1,
   "id": "097d7d8f",
   "metadata": {},
   "outputs": [],
   "source": [
    "from IPython.display import display\n",
    "from openbb import obb"
   ]
  },
  {
   "cell_type": "code",
   "execution_count": 2,
   "id": "154f9ac6",
   "metadata": {},
   "outputs": [],
   "source": [
    "obb.user.preferences.output_type = \"dataframe\""
   ]
  },
  {
   "cell_type": "markdown",
   "id": "2d78fbd3",
   "metadata": {},
   "source": [
    "Fetches options chains for the symbol \"SPY\" and stores it in 'chains'"
   ]
  },
  {
   "cell_type": "code",
   "execution_count": 3,
   "id": "a99c279c",
   "metadata": {},
   "outputs": [],
   "source": [
    "chains = obb.derivatives.options.chains(symbol=\"SPY\")"
   ]
  },
  {
   "cell_type": "code",
   "execution_count": 4,
   "id": "4e5a2f88",
   "metadata": {},
   "outputs": [
    {
     "name": "stdout",
     "output_type": "stream",
     "text": [
      "<class 'pandas.core.frame.DataFrame'>\n",
      "RangeIndex: 10002 entries, 0 to 10001\n",
      "Data columns (total 29 columns):\n",
      " #   Column              Non-Null Count  Dtype         \n",
      "---  ------              --------------  -----         \n",
      " 0   underlying_symbol   10002 non-null  object        \n",
      " 1   underlying_price    10002 non-null  float64       \n",
      " 2   contract_symbol     10002 non-null  object        \n",
      " 3   expiration          10002 non-null  object        \n",
      " 4   dte                 10002 non-null  int64         \n",
      " 5   strike              10002 non-null  float64       \n",
      " 6   option_type         10002 non-null  object        \n",
      " 7   open_interest       10002 non-null  int64         \n",
      " 8   volume              10002 non-null  int64         \n",
      " 9   theoretical_price   10002 non-null  float64       \n",
      " 10  last_trade_price    10002 non-null  float64       \n",
      " 11  last_trade_time     8179 non-null   datetime64[ns]\n",
      " 12  tick                10002 non-null  object        \n",
      " 13  bid                 10002 non-null  float64       \n",
      " 14  bid_size            10002 non-null  int64         \n",
      " 15  ask                 10002 non-null  float64       \n",
      " 16  ask_size            10002 non-null  int64         \n",
      " 17  open                10002 non-null  float64       \n",
      " 18  high                10002 non-null  float64       \n",
      " 19  low                 10002 non-null  float64       \n",
      " 20  prev_close          10002 non-null  float64       \n",
      " 21  change              10002 non-null  float64       \n",
      " 22  change_percent      10002 non-null  float64       \n",
      " 23  implied_volatility  10002 non-null  float64       \n",
      " 24  delta               10002 non-null  float64       \n",
      " 25  gamma               10002 non-null  float64       \n",
      " 26  theta               10002 non-null  float64       \n",
      " 27  vega                10002 non-null  float64       \n",
      " 28  rho                 10002 non-null  float64       \n",
      "dtypes: datetime64[ns](1), float64(18), int64(5), object(5)\n",
      "memory usage: 2.2+ MB\n"
     ]
    },
    {
     "data": {
      "text/plain": [
       "None"
      ]
     },
     "metadata": {},
     "output_type": "display_data"
    }
   ],
   "source": [
    "display(chains.info())"
   ]
  },
  {
   "cell_type": "markdown",
   "id": "90c6a378",
   "metadata": {},
   "source": [
    "Fetches historical price data for the specified option symbol using the \"yfinance\" provider and selects the \"close\" and \"volume\" columns"
   ]
  },
  {
   "cell_type": "code",
   "execution_count": 6,
   "id": "b185aa90",
   "metadata": {},
   "outputs": [],
   "source": [
    "historic = obb.equity.price.historical(\n",
    "    symbol=\"SPY241220C00550000\", provider=\"yfinance\"\n",
    ")[[\"close\", \"volume\"]]"
   ]
  },
  {
   "cell_type": "code",
   "execution_count": 7,
   "id": "ab4c65de",
   "metadata": {},
   "outputs": [
    {
     "data": {
      "text/html": [
       "<div>\n",
       "<style scoped>\n",
       "    .dataframe tbody tr th:only-of-type {\n",
       "        vertical-align: middle;\n",
       "    }\n",
       "\n",
       "    .dataframe tbody tr th {\n",
       "        vertical-align: top;\n",
       "    }\n",
       "\n",
       "    .dataframe thead th {\n",
       "        text-align: right;\n",
       "    }\n",
       "</style>\n",
       "<table border=\"1\" class=\"dataframe\">\n",
       "  <thead>\n",
       "    <tr style=\"text-align: right;\">\n",
       "      <th></th>\n",
       "      <th>close</th>\n",
       "      <th>volume</th>\n",
       "    </tr>\n",
       "    <tr>\n",
       "      <th>date</th>\n",
       "      <th></th>\n",
       "      <th></th>\n",
       "    </tr>\n",
       "  </thead>\n",
       "  <tbody>\n",
       "    <tr>\n",
       "      <th>2023-11-10</th>\n",
       "      <td>1.920000</td>\n",
       "      <td>3</td>\n",
       "    </tr>\n",
       "    <tr>\n",
       "      <th>2023-11-13</th>\n",
       "      <td>1.940000</td>\n",
       "      <td>13</td>\n",
       "    </tr>\n",
       "    <tr>\n",
       "      <th>2023-11-14</th>\n",
       "      <td>2.660000</td>\n",
       "      <td>159</td>\n",
       "    </tr>\n",
       "    <tr>\n",
       "      <th>2023-11-15</th>\n",
       "      <td>2.800000</td>\n",
       "      <td>44</td>\n",
       "    </tr>\n",
       "    <tr>\n",
       "      <th>2023-11-16</th>\n",
       "      <td>2.660000</td>\n",
       "      <td>33</td>\n",
       "    </tr>\n",
       "    <tr>\n",
       "      <th>...</th>\n",
       "      <td>...</td>\n",
       "      <td>...</td>\n",
       "    </tr>\n",
       "    <tr>\n",
       "      <th>2024-11-04</th>\n",
       "      <td>29.850000</td>\n",
       "      <td>51</td>\n",
       "    </tr>\n",
       "    <tr>\n",
       "      <th>2024-11-05</th>\n",
       "      <td>34.330002</td>\n",
       "      <td>249</td>\n",
       "    </tr>\n",
       "    <tr>\n",
       "      <th>2024-11-06</th>\n",
       "      <td>47.450001</td>\n",
       "      <td>123</td>\n",
       "    </tr>\n",
       "    <tr>\n",
       "      <th>2024-11-07</th>\n",
       "      <td>51.389999</td>\n",
       "      <td>81</td>\n",
       "    </tr>\n",
       "    <tr>\n",
       "      <th>2024-11-08</th>\n",
       "      <td>53.090000</td>\n",
       "      <td>483</td>\n",
       "    </tr>\n",
       "  </tbody>\n",
       "</table>\n",
       "<p>249 rows × 2 columns</p>\n",
       "</div>"
      ],
      "text/plain": [
       "                close  volume\n",
       "date                         \n",
       "2023-11-10   1.920000       3\n",
       "2023-11-13   1.940000      13\n",
       "2023-11-14   2.660000     159\n",
       "2023-11-15   2.800000      44\n",
       "2023-11-16   2.660000      33\n",
       "...               ...     ...\n",
       "2024-11-04  29.850000      51\n",
       "2024-11-05  34.330002     249\n",
       "2024-11-06  47.450001     123\n",
       "2024-11-07  51.389999      81\n",
       "2024-11-08  53.090000     483\n",
       "\n",
       "[249 rows x 2 columns]"
      ]
     },
     "metadata": {},
     "output_type": "display_data"
    }
   ],
   "source": [
    "display(historic)"
   ]
  },
  {
   "cell_type": "markdown",
   "id": "d104b4e9",
   "metadata": {},
   "source": [
    "Plots the historical \"close\" price data"
   ]
  },
  {
   "cell_type": "code",
   "execution_count": 8,
   "id": "d12aab32",
   "metadata": {},
   "outputs": [
    {
     "data": {
      "text/plain": [
       "<Axes: xlabel='date'>"
      ]
     },
     "execution_count": 8,
     "metadata": {},
     "output_type": "execute_result"
    },
    {
     "data": {
      "image/png": "[encoded data removed]",
      "text/plain": [
       "<Figure size 640x480 with 1 Axes>"
      ]
     },
     "metadata": {},
     "output_type": "display_data"
    }
   ],
   "source": [
    "historic.close.plot()"
   ]
  },
  {
   "cell_type": "markdown",
   "id": "0c370bac",
   "metadata": {},
   "source": [
    "**Jason Strimpel** is the founder of <a href='https://pyquantnews.com/'>PyQuant News</a> and co-founder of <a href='https://www.tradeblotter.io/'>Trade Blotter</a>. His career in algorithmic trading spans 20+ years. He previously traded for a Chicago-based hedge fund, was a risk manager at JPMorgan, and managed production risk technology for an energy derivatives trading firm in London. In Singapore, he served as APAC CIO for an agricultural trading firm and built the data science team for a global metals trading firm. Jason holds degrees in Finance and Economics and a Master's in Quantitative Finance from the Illinois Institute of Technology. His career spans America, Europe, and Asia. He shares his expertise through the <a href='https://pyquantnews.com/subscribe-to-the-pyquant-newsletter/'>PyQuant Newsletter</a>, social media, and has taught over 1,000+ algorithmic trading with Python in his popular course **<a href='https://gettingstartedwithpythonforquantfinance.com/'>Getting Started With Python for Quant Finance</a>**. All code is for educational purposes only. Nothing provided here is financial advise. Use at your own risk."
   ]
  }
 ],
 "metadata": {
  "jupytext": {
   "cell_metadata_filter": "-all",
   "main_language": "python",
   "notebook_metadata_filter": "-all"
  },
  "kernelspec": {
   "display_name": "openbb_all",
   "language": "python",
   "name": "python3"
  },
  "language_info": {
   "codemirror_mode": {
    "name": "ipython",
    "version": 3
   },
   "file_extension": ".py",
   "mimetype": "text/x-python",
   "name": "python",
   "nbconvert_exporter": "python",
   "pygments_lexer": "ipython3",
   "version": "3.11.10"
  }
 },
 "nbformat": 4,
 "nbformat_minor": 5
}
