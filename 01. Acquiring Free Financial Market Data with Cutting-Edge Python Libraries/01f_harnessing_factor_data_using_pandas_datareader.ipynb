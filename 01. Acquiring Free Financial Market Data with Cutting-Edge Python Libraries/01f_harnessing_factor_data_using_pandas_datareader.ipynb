{
 "cells": [
  {
   "cell_type": "markdown",
   "id": "e83c2539",
   "metadata": {},
   "source": [
    "## Harnessing factor data using pandas_datareader"
   ]
  },
  {
   "cell_type": "code",
   "execution_count": 3,
   "id": "f932e769",
   "metadata": {},
   "outputs": [
    {
     "name": "stdout",
     "output_type": "stream",
     "text": [
      "Requirement already satisfied: pandas_datareader in /Users/alin/miniconda3/envs/openbb_all/lib/python3.11/site-packages (0.10.0)\n",
      "Requirement already satisfied: lxml in /Users/alin/miniconda3/envs/openbb_all/lib/python3.11/site-packages (from pandas_datareader) (5.3.0)\n",
      "Requirement already satisfied: pandas>=0.23 in /Users/alin/miniconda3/envs/openbb_all/lib/python3.11/site-packages (from pandas_datareader) (2.2.3)\n",
      "Requirement already satisfied: requests>=2.19.0 in /Users/alin/miniconda3/envs/openbb_all/lib/python3.11/site-packages (from pandas_datareader) (2.32.3)\n",
      "Requirement already satisfied: numpy>=1.23.2 in /Users/alin/miniconda3/envs/openbb_all/lib/python3.11/site-packages (from pandas>=0.23->pandas_datareader) (1.26.4)\n",
      "Requirement already satisfied: python-dateutil>=2.8.2 in /Users/alin/miniconda3/envs/openbb_all/lib/python3.11/site-packages (from pandas>=0.23->pandas_datareader) (2.9.0)\n",
      "Requirement already satisfied: pytz>=2020.1 in /Users/alin/miniconda3/envs/openbb_all/lib/python3.11/site-packages (from pandas>=0.23->pandas_datareader) (2024.2)\n",
      "Requirement already satisfied: tzdata>=2022.7 in /Users/alin/miniconda3/envs/openbb_all/lib/python3.11/site-packages (from pandas>=0.23->pandas_datareader) (2024.2)\n",
      "Requirement already satisfied: charset-normalizer<4,>=2 in /Users/alin/miniconda3/envs/openbb_all/lib/python3.11/site-packages (from requests>=2.19.0->pandas_datareader) (3.4.0)\n",
      "Requirement already satisfied: idna<4,>=2.5 in /Users/alin/miniconda3/envs/openbb_all/lib/python3.11/site-packages (from requests>=2.19.0->pandas_datareader) (3.10)\n",
      "Requirement already satisfied: urllib3<3,>=1.21.1 in /Users/alin/miniconda3/envs/openbb_all/lib/python3.11/site-packages (from requests>=2.19.0->pandas_datareader) (2.2.3)\n",
      "Requirement already satisfied: certifi>=2017.4.17 in /Users/alin/miniconda3/envs/openbb_all/lib/python3.11/site-packages (from requests>=2.19.0->pandas_datareader) (2024.8.30)\n",
      "Requirement already satisfied: six>=1.5 in /Users/alin/miniconda3/envs/openbb_all/lib/python3.11/site-packages (from python-dateutil>=2.8.2->pandas>=0.23->pandas_datareader) (1.16.0)\n",
      "Note: you may need to restart the kernel to use updated packages.\n"
     ]
    }
   ],
   "source": [
    "%pip install pandas_datareader"
   ]
  },
  {
   "cell_type": "code",
   "execution_count": 1,
   "id": "ec171920",
   "metadata": {},
   "outputs": [],
   "source": [
    "import warnings"
   ]
  },
  {
   "cell_type": "code",
   "execution_count": 2,
   "id": "2ac3e1ac",
   "metadata": {},
   "outputs": [],
   "source": [
    "import pandas_datareader as pdr\n",
    "from IPython.display import display"
   ]
  },
  {
   "cell_type": "code",
   "execution_count": 3,
   "id": "0d2f65cf",
   "metadata": {},
   "outputs": [],
   "source": [
    "warnings.filterwarnings(\"ignore\")"
   ]
  },
  {
   "cell_type": "markdown",
   "id": "30423d49",
   "metadata": {},
   "source": [
    "Fetches the Fama-French research data factors and stores it in 'factors'"
   ]
  },
  {
   "cell_type": "code",
   "execution_count": 4,
   "id": "4b9f5acb",
   "metadata": {},
   "outputs": [],
   "source": [
    "factors = pdr.get_data_famafrench(\n",
    "    \"F-F_Research_Data_Factors\",\n",
    ")"
   ]
  },
  {
   "cell_type": "code",
   "execution_count": 5,
   "id": "e8a1418f",
   "metadata": {},
   "outputs": [
    {
     "data": {
      "text/plain": [
       "'F-F Research Data Factors\\n-------------------------\\n\\nThis file was created by CMPT_ME_BEME_RETS using the 202409 CRSP database. The 1-month TBill rate data until 202405 are from Ibbotson Associates. Starting from 202406, the 1-month TBill rate is from ICE BofA US 1-Month Treasury Bill Index. Copyright 2024 Eugene F. Fama and Kenneth R. French\\n\\n  0 : (59 rows x 4 cols)\\n  1 : Annual Factors: January-December (5 rows x 4 cols)'"
      ]
     },
     "metadata": {},
     "output_type": "display_data"
    }
   ],
   "source": [
    "display(factors[\"DESCR\"])"
   ]
  },
  {
   "cell_type": "code",
   "execution_count": 8,
   "id": "dfc97d91",
   "metadata": {},
   "outputs": [
    {
     "name": "stdout",
     "output_type": "stream",
     "text": [
      "['F-F_Research_Data_Factors', 'F-F_Research_Data_Factors_weekly', 'F-F_Research_Data_Factors_daily', 'F-F_Research_Data_5_Factors_2x3', 'F-F_Research_Data_5_Factors_2x3_daily', 'Portfolios_Formed_on_ME', 'Portfolios_Formed_on_ME_Wout_Div', 'Portfolios_Formed_on_ME_Daily', 'Portfolios_Formed_on_BE-ME', 'Portfolios_Formed_on_BE-ME_Wout_Div', 'Portfolios_Formed_on_BE-ME_Daily', 'Portfolios_Formed_on_OP', 'Portfolios_Formed_on_OP_Wout_Div', 'Portfolios_Formed_on_OP_Daily', 'Portfolios_Formed_on_INV', 'Portfolios_Formed_on_INV_Wout_Div', 'Portfolios_Formed_on_INV_Daily', '6_Portfolios_2x3', '6_Portfolios_2x3_Wout_Div', '6_Portfolios_2x3_weekly', '6_Portfolios_2x3_daily', '25_Portfolios_5x5', '25_Portfolios_5x5_Wout_Div', '25_Portfolios_5x5_Daily', '100_Portfolios_10x10', '100_Portfolios_10x10_Wout_Div', '100_Portfolios_10x10_Daily', '6_Portfolios_ME_OP_2x3', '6_Portfolios_ME_OP_2x3_Wout_Div', '6_Portfolios_ME_OP_2x3_daily', '25_Portfolios_ME_OP_5x5', '25_Portfolios_ME_OP_5x5_Wout_Div', '25_Portfolios_ME_OP_5x5_daily', '100_Portfolios_ME_OP_10x10', '100_Portfolios_10x10_ME_OP_Wout_Div', '100_Portfolios_ME_OP_10x10_daily', '6_Portfolios_ME_INV_2x3', '6_Portfolios_ME_INV_2x3_Wout_Div', '6_Portfolios_ME_INV_2x3_daily', '25_Portfolios_ME_INV_5x5', '25_Portfolios_ME_INV_5x5_Wout_Div', '25_Portfolios_ME_INV_5x5_daily', '100_Portfolios_ME_INV_10x10', '100_Portfolios_10x10_ME_INV_Wout_Div', '100_Portfolios_ME_INV_10x10_daily', '25_Portfolios_BEME_OP_5x5', '25_Portfolios_BEME_OP_5x5_Wout_Div', '25_Portfolios_BEME_OP_5x5_daily', '25_Portfolios_BEME_INV_5x5', '25_Portfolios_BEME_INV_5x5_Wout_Div', '25_Portfolios_BEME_INV_5x5_daily', '25_Portfolios_OP_INV_5x5', '25_Portfolios_OP_INV_5x5_Wout_Div', '25_Portfolios_OP_INV_5x5_daily', '32_Portfolios_ME_BEME_OP_2x4x4', '32_Portfolios_ME_BEME_OP_2x4x4_Wout_Div', '32_Portfolios_ME_BEME_INV_2x4x4', '32_Portfolios_ME_BEME_INV_2x4x4_Wout_Div', '32_Portfolios_ME_OP_INV_2x4x4', '32_Portfolios_ME_OP_INV_2x4x4_Wout_Div', 'Portfolios_Formed_on_E-P', 'Portfolios_Formed_on_E-P_Wout_Div', 'Portfolios_Formed_on_CF-P', 'Portfolios_Formed_on_CF-P_Wout_Div', 'Portfolios_Formed_on_D-P', 'Portfolios_Formed_on_D-P_Wout_Div', '6_Portfolios_ME_EP_2x3', '6_Portfolios_ME_EP_2x3_Wout_Div', '6_Portfolios_ME_CFP_2x3', '6_Portfolios_ME_CFP_2x3_Wout_Div', '6_Portfolios_ME_DP_2x3', '6_Portfolios_ME_DP_2x3_Wout_Div', 'F-F_Momentum_Factor', 'F-F_Momentum_Factor_daily', '6_Portfolios_ME_Prior_12_2', '6_Portfolios_ME_Prior_12_2_Daily', '25_Portfolios_ME_Prior_12_2', '25_Portfolios_ME_Prior_12_2_Daily', '10_Portfolios_Prior_12_2', '10_Portfolios_Prior_12_2_Daily', 'F-F_ST_Reversal_Factor', 'F-F_ST_Reversal_Factor_daily', '6_Portfolios_ME_Prior_1_0', '6_Portfolios_ME_Prior_1_0_Daily', '25_Portfolios_ME_Prior_1_0', '25_Portfolios_ME_Prior_1_0_Daily', '10_Portfolios_Prior_1_0', '10_Portfolios_Prior_1_0_Daily', 'F-F_LT_Reversal_Factor', 'F-F_LT_Reversal_Factor_daily', '6_Portfolios_ME_Prior_60_13', '6_Portfolios_ME_Prior_60_13_Daily', '25_Portfolios_ME_Prior_60_13', '25_Portfolios_ME_Prior_60_13_Daily', '10_Portfolios_Prior_60_13', '10_Portfolios_Prior_60_13_Daily', 'Portfolios_Formed_on_AC', '25_Portfolios_ME_AC_5x5', 'Portfolios_Formed_on_BETA', '25_Portfolios_ME_BETA_5x5', 'Portfolios_Formed_on_NI', '25_Portfolios_ME_NI_5x5', 'Portfolios_Formed_on_VAR', '25_Portfolios_ME_VAR_5x5', 'Portfolios_Formed_on_RESVAR', '25_Portfolios_ME_RESVAR_5x5', '5_Industry_Portfolios', '5_Industry_Portfolios_Wout_Div', '5_Industry_Portfolios_daily', '10_Industry_Portfolios', '10_Industry_Portfolios_Wout_Div', '10_Industry_Portfolios_daily', '12_Industry_Portfolios', '12_Industry_Portfolios_Wout_Div', '12_Industry_Portfolios_daily', '17_Industry_Portfolios', '17_Industry_Portfolios_Wout_Div', '17_Industry_Portfolios_daily', '30_Industry_Portfolios', '30_Industry_Portfolios_Wout_Div', '30_Industry_Portfolios_daily', '38_Industry_Portfolios', '38_Industry_Portfolios_Wout_Div', '38_Industry_Portfolios_daily', '48_Industry_Portfolios', '48_Industry_Portfolios_Wout_Div', '48_Industry_Portfolios_daily', '49_Industry_Portfolios', '49_Industry_Portfolios_Wout_Div', '49_Industry_Portfolios_daily', 'ME_Breakpoints', 'BE-ME_Breakpoints', 'OP_Breakpoints', 'INV_Breakpoints', 'E-P_Breakpoints', 'CF-P_Breakpoints', 'D-P_Breakpoints', 'Prior_2-12_Breakpoints', 'Developed_3_Factors', 'Developed_3_Factors_Daily', 'Developed_ex_US_3_Factors', 'Developed_ex_US_3_Factors_Daily', 'Europe_3_Factors', 'Europe_3_Factors_Daily', 'Japan_3_Factors', 'Japan_3_Factors_Daily', 'Asia_Pacific_ex_Japan_3_Factors', 'Asia_Pacific_ex_Japan_3_Factors_Daily', 'North_America_3_Factors', 'North_America_3_Factors_Daily', 'Developed_5_Factors', 'Developed_5_Factors_Daily', 'Developed_ex_US_5_Factors', 'Developed_ex_US_5_Factors_Daily', 'Europe_5_Factors', 'Europe_5_Factors_Daily', 'Japan_5_Factors', 'Japan_5_Factors_Daily', 'Asia_Pacific_ex_Japan_5_Factors', 'Asia_Pacific_ex_Japan_5_Factors_Daily', 'North_America_5_Factors', 'North_America_5_Factors_Daily', 'Developed_Mom_Factor', 'Developed_Mom_Factor_Daily', 'Developed_ex_US_Mom_Factor', 'Developed_ex_US_Mom_Factor_Daily', 'Europe_Mom_Factor', 'Europe_Mom_Factor_Daily', 'Japan_Mom_Factor', 'Japan_Mom_Factor_Daily', 'Asia_Pacific_ex_Japan_MOM_Factor', 'Asia_Pacific_ex_Japan_MOM_Factor_Daily', 'North_America_Mom_Factor', 'North_America_Mom_Factor_Daily', 'Developed_6_Portfolios_ME_BE-ME', 'Developed_6_Portfolios_ME_BE-ME_daily', 'Developed_ex_US_6_Portfolios_ME_BE-ME', 'Developed_ex_US_6_Portfolios_ME_BE-ME_daily', 'Europe_6_Portfolios_ME_BE-ME', 'Europe_6_Portfolios_ME_BE-ME_daily', 'Japan_6_Portfolios_ME_BE-ME', 'Japan_6_Portfolios_ME_BE-ME_daily', 'Asia_Pacific_ex_Japan_6_Portfolios_ME_BE-ME', 'Asia_Pacific_ex_Japan_6_Portfolios_ME_BE-ME_daily', 'North_America_6_Portfolios_ME_BE-ME', 'North_America_6_Portfolios_ME_BE-ME_daily', 'Developed_25_Portfolios_ME_BE-ME', 'Developed_25_Portfolios_ME_BE-ME_daily', 'Developed_ex_US_25_Portfolios_ME_BE-ME', 'Developed_ex_US_25_Portfolios_ME_BE-ME_daily', 'Europe_25_Portfolios_ME_BE-ME', 'Europe_25_Portfolios_ME_BE-ME_daily', 'Japan_25_Portfolios_ME_BE-ME', 'Japan_25_Portfolios_ME_BE-ME_daily', 'Asia_Pacific_ex_Japan_25_Portfolios_ME_BE-ME', 'Asia_Pacific_ex_Japan_25_Portfolios_ME_BE-ME_daily', 'North_America_25_Portfolios_ME_BE-ME', 'North_America_25_Portfolios_ME_BE-ME_daily', 'Developed_6_Portfolios_ME_OP', 'Developed_6_Portfolios_ME_OP_Daily', 'Developed_ex_US_6_Portfolios_ME_OP', 'Developed_ex_US_6_Portfolios_ME_OP_Daily', 'Europe_6_Portfolios_ME_OP', 'Europe_6_Portfolios_ME_OP_Daily', 'Japan_6_Portfolios_ME_OP', 'Japan_6_Portfolios_ME_OP_Daily', 'Asia_Pacific_ex_Japan_6_Portfolios_ME_OP', 'Asia_Pacific_ex_Japan_6_Portfolios_ME_OP_Daily', 'North_America_6_Portfolios_ME_OP', 'North_America_6_Portfolios_ME_OP_Daily', 'Developed_25_Portfolios_ME_OP', 'Developed_25_Portfolios_ME_OP_Daily', 'Developed_ex_US_25_Portfolios_ME_OP', 'Developed_ex_US_25_Portfolios_ME_OP_Daily', 'Europe_25_Portfolios_ME_OP', 'Europe_25_Portfolios_ME_OP_Daily', 'Japan_25_Portfolios_ME_OP', 'Japan_25_Portfolios_ME_OP_Daily', 'Asia_Pacific_ex_Japan_25_Portfolios_ME_OP', 'Asia_Pacific_ex_Japan_25_Portfolios_ME_OP_Daily', 'North_America_25_Portfolios_ME_OP', 'North_America_25_Portfolios_ME_OP_Daily', 'Developed_6_Portfolios_ME_INV', 'Developed_6_Portfolios_ME_INV_Daily', 'Developed_ex_US_6_Portfolios_ME_INV', 'Developed_ex_US_6_Portfolios_ME_INV_Daily', 'Europe_6_Portfolios_ME_INV', 'Europe_6_Portfolios_ME_INV_Daily', 'Japan_6_Portfolios_ME_INV', 'Japan_6_Portfolios_ME_INV_Daily', 'Asia_Pacific_ex_Japan_6_Portfolios_ME_INV', 'Asia_Pacific_ex_Japan_6_Portfolios_ME_INV_Daily', 'North_America_6_Portfolios_ME_INV', 'North_America_6_Portfolios_ME_INV_Daily', 'Developed_25_Portfolios_ME_INV', 'Developed_25_Portfolios_ME_INV_Daily', 'Developed_ex_US_25_Portfolios_ME_INV', 'Developed_ex_US_25_Portfolios_ME_INV_Daily', 'Europe_25_Portfolios_ME_INV', 'Europe_25_Portfolios_ME_INV_Daily', 'Japan_25_Portfolios_ME_INV', 'Japan_25_Portfolios_ME_INV_Daily', 'Asia_Pacific_ex_Japan_25_Portfolios_ME_INV', 'Asia_Pacific_ex_Japan_25_Portfolios_ME_INV_Daily', 'North_America_25_Portfolios_ME_INV', 'North_America_25_Portfolios_ME_INV_Daily', 'Developed_6_Portfolios_ME_Prior_12_2', 'Developed_6_Portfolios_ME_Prior_250_20_daily', 'Developed_ex_US_6_Portfolios_ME_Prior_12_2', 'Developed_ex_US_6_Portfolios_ME_Prior_250_20_daily', 'Europe_6_Portfolios_ME_Prior_12_2', 'Europe_6_Portfolios_ME_Prior_250_20_daily', 'Japan_6_Portfolios_ME_Prior_12_2', 'Japan_6_Portfolios_ME_Prior_250_20_daily', 'Asia_Pacific_ex_Japan_6_Portfolios_ME_Prior_12_2', 'Asia_Pacific_ex_Japan_6_Portfolios_ME_Prior_250_20_daily', 'North_America_6_Portfolios_ME_Prior_12_2', 'North_America_6_Portfolios_ME_Prior_250_20_daily', 'Developed_25_Portfolios_ME_Prior_12_2', 'Developed_25_Portfolios_ME_Prior_250_20_daily', 'Developed_ex_US_25_Portfolios_ME_Prior_12_2', 'Developed_ex_US_25_Portfolios_ME_Prior_250_20_daily', 'Europe_25_Portfolios_ME_Prior_12_2', 'Europe_25_Portfolios_ME_Prior_250_20_daily', 'Japan_25_Portfolios_ME_Prior_12_2', 'Japan_25_Portfolios_ME_Prior_250_20_daily', 'Asia_Pacific_ex_Japan_25_Portfolios_ME_Prior_12_2', 'Asia_Pacific_ex_Japan_25_Portfolios_ME_Prior_250_20_daily', 'North_America_25_Portfolios_ME_Prior_12_2', 'North_America_25_Portfolios_ME_Prior_250_20_daily', 'Developed_32_Portfolios_ME_BE-ME_OP_2x4x4', 'Developed_ex_US_32_Portfolios_ME_BE-ME_OP_2x4x4', 'Europe_32_Portfolios_ME_BE-ME_OP_2x4x4', 'Japan_32_Portfolios_ME_BE-ME_OP_2x4x4', 'Asia_Pacific_ex_Japan_32_Portfolios_ME_BE-ME_OP_2x4x4', 'North_America_32_Portfolios_ME_BE-ME_OP_2x4x4', 'Developed_32_Portfolios_ME_BE-ME_INV(TA)_2x4x4', 'Developed_ex_US_32_Portfolios_ME_BE-ME_INV(TA)_2x4x4', 'Europe_32_Portfolios_ME_BE-ME_INV(TA)_2x4x4', 'Japan_32_Portfolios_ME_BE-ME_INV(TA)_2x4x4', 'Asia_Pacific_ex_Japan_32_Portfolios_ME_BE-ME_INV(TA)_2x4x4', 'North_America_32_Portfolios_ME_BE-ME_INV(TA)_2x4x4', 'Developed_32_Portfolios_ME_INV(TA)_OP_2x4x4', 'Developed_ex_US_32_Portfolios_ME_INV(TA)_OP_2x4x4', 'Europe_32_Portfolios_ME_INV(TA)_OP_2x4x4', 'Japan_32_Portfolios_ME_INV(TA)_OP_2x4x4', 'Asia_Pacific_ex_Japan_32_Portfolios_ME_INV(TA)_OP_2x4x4', 'North_America_32_Portfolios_ME_INV(TA)_OP_2x4x4', 'Emerging_5_Factors', 'Emerging_MOM_Factor', 'Emerging_Markets_6_Portfolios_ME_BE-ME', 'Emerging_Markets_6_Portfolios_ME_OP', 'Emerging_Markets_6_Portfolios_ME_INV', 'Emerging_Markets_6_Portfolios_ME_Prior_12_2', 'Emerging_Markets_4_Portfolios_BE-ME_OP', 'Emerging_Markets_4_Portfolios_OP_INV', 'Emerging_Markets_4_Portfolios_BE-ME_INV']\n"
     ]
    }
   ],
   "source": [
    "from pandas_datareader.famafrench import get_available_datasets\n",
    "\n",
    "# Get a list of available datasets\n",
    "datasets = get_available_datasets()\n",
    "print(datasets) "
   ]
  },
  {
   "cell_type": "code",
   "execution_count": 9,
   "id": "bd8db49e",
   "metadata": {},
   "outputs": [
    {
     "name": "stdout",
     "output_type": "stream",
     "text": [
      "{0:          Mkt-RF   SMB    HML   RMW   CMA    RF\n",
      "Date                                          \n",
      "2019-11    3.88  0.45  -1.99 -1.63 -1.25  0.12\n",
      "2019-12    2.77  0.97   1.78 -0.02  1.23  0.14\n",
      "2020-01   -0.11 -4.40  -6.25 -1.20 -2.30  0.13\n",
      "2020-02   -8.13  0.04  -3.80 -1.49 -2.52  0.12\n",
      "2020-03  -13.39 -8.24 -13.88 -1.56  1.26  0.13\n",
      "2020-04   13.65  2.56  -1.34  2.73 -1.03  0.00\n",
      "2020-05    5.58  1.99  -4.85  0.93 -3.24  0.01\n",
      "2020-06    2.46  1.97  -2.23  0.13  0.53  0.01\n",
      "2020-07    5.77 -3.18  -1.44  0.40  1.03  0.01\n",
      "2020-08    7.63 -0.95  -2.88  4.33 -1.26  0.01\n",
      "2020-09   -3.63 -0.05  -2.65 -1.28 -1.96  0.01\n",
      "2020-10   -2.10  4.54   4.31 -0.76 -0.88  0.01\n",
      "2020-11   12.47  7.05   2.15 -2.22  1.28  0.01\n",
      "2020-12    4.63  4.70  -1.34 -1.88 -0.26  0.01\n",
      "2021-01   -0.03  7.08   2.85 -3.92  5.18  0.01\n",
      "2021-02    2.78  4.56   7.10  0.39 -1.95  0.00\n",
      "2021-03    3.08 -0.78   7.27  6.34  3.57  0.00\n",
      "2021-04    4.93 -3.16  -0.95  2.47 -2.71  0.00\n",
      "2021-05    0.29  1.20   7.13  2.40  3.02  0.00\n",
      "2021-06    2.75 -0.41  -7.75 -2.04 -1.02  0.00\n",
      "2021-07    1.27 -4.59  -1.81  5.48 -0.52  0.00\n",
      "2021-08    2.91 -0.71  -0.10 -0.22 -1.82  0.00\n",
      "2021-09   -4.37  1.09   5.10 -1.95  2.09  0.00\n",
      "2021-10    6.65 -2.72  -0.45  1.72 -1.44  0.00\n",
      "2021-11   -1.55 -1.77  -0.41  7.27  1.74  0.00\n",
      "2021-12    3.10 -0.79   3.22  4.83  4.32  0.01\n",
      "2022-01   -6.25 -4.09  12.80  0.84  7.74  0.00\n",
      "2022-02   -2.29  2.92   3.10 -2.10  3.16  0.00\n",
      "2022-03    3.06 -2.20  -1.76 -1.50  3.18  0.01\n",
      "2022-04   -9.46 -0.40   6.17  3.47  5.87  0.01\n",
      "2022-05   -0.34 -0.16   8.59  1.70  3.99  0.03\n",
      "2022-06   -8.44  1.36  -6.10  1.74 -4.72  0.06\n",
      "2022-07    9.57  1.83  -4.03  0.85 -6.82  0.08\n",
      "2022-08   -3.77  1.52   0.29 -4.79  1.33  0.19\n",
      "2022-09   -9.35 -1.04   0.02 -1.46 -0.79  0.19\n",
      "2022-10    7.83  1.88   8.06  3.31  6.62  0.23\n",
      "2022-11    4.61 -2.75   1.41  6.32  3.20  0.29\n",
      "2022-12   -6.41 -0.14   1.34  0.27  4.21  0.33\n",
      "2023-01    6.64  4.42  -4.00 -2.42 -4.44  0.35\n",
      "2023-02   -2.59  0.66  -0.83  1.03 -1.32  0.34\n",
      "2023-03    2.51 -6.93  -8.87  2.33 -2.39  0.36\n",
      "2023-04    0.61 -2.57  -0.05  2.42  2.85  0.35\n",
      "2023-05    0.35 -0.38  -7.74 -1.82 -7.20  0.36\n",
      "2023-06    6.47  1.36  -0.20  2.27 -1.62  0.40\n",
      "2023-07    3.21  2.84   4.11 -0.57  0.62  0.45\n",
      "2023-08   -2.39 -3.68  -1.08  3.42 -2.37  0.45\n",
      "2023-09   -5.24 -1.79   1.45  1.85 -0.84  0.43\n",
      "2023-10   -3.18 -4.05   0.19  2.47 -0.67  0.47\n",
      "2023-11    8.83 -0.11   1.66 -3.81 -0.99  0.44\n",
      "2023-12    4.87  7.33   4.92 -3.04  1.30  0.43\n",
      "2024-01    0.70 -5.68  -2.47  0.66 -1.02  0.47\n",
      "2024-02    5.07 -0.76  -3.52 -1.98 -2.16  0.42\n",
      "2024-03    2.83 -1.18   4.21  1.47  1.19  0.43\n",
      "2024-04   -4.67 -2.56  -0.52  1.48 -0.30  0.47\n",
      "2024-05    4.34  0.76  -1.66  2.98 -3.07  0.44\n",
      "2024-06    2.77 -4.37  -3.31  0.51 -1.78  0.41\n",
      "2024-07    1.24  8.28   5.73  0.22  0.43  0.45\n",
      "2024-08    1.61 -3.65  -1.13  0.85  0.86  0.48\n",
      "2024-09    1.74 -1.03  -2.60  0.03 -0.26  0.40, 1:       Mkt-RF   SMB    HML    RMW    CMA    RF\n",
      "Date                                         \n",
      "2019   28.28 -6.17 -10.37   4.25  -3.07  2.15\n",
      "2020   23.66  3.02 -46.10  -4.93 -12.10  0.45\n",
      "2021   23.57 -1.05  25.39  26.74  12.16  0.04\n",
      "2022  -21.58 -1.69  25.97   6.67  22.54  1.43\n",
      "2023   21.68 -6.00 -13.70   6.30 -20.92  4.95, 'DESCR': 'F-F Research Data 5 Factors 2x3\\n-------------------------------\\n\\nThis file was created by CMPT_ME_BEME_OP_INV_RETS using the 202409 CRSP database. The 1-month TBill rate data until 202405 are from Ibbotson Associates. Starting from 202406, the 1-month TBill rate is from ICE BofA US 1-Month Treasury Bill Index.\\n\\n  0 : (59 rows x 6 cols)\\n  1 : Annual Factors: January-December (5 rows x 6 cols)'}\n"
     ]
    }
   ],
   "source": [
    "import pandas_datareader.data as web\n",
    "\n",
    "# Load the 5-factor dataset\n",
    "ff_five_factor = web.DataReader('F-F_Research_Data_5_Factors_2x3', 'famafrench')\n",
    "print(ff_five_factor)"
   ]
  },
  {
   "cell_type": "markdown",
   "id": "289f62f0",
   "metadata": {},
   "source": [
    "Displays the first few rows of the first dataset in 'factors'"
   ]
  },
  {
   "cell_type": "code",
   "execution_count": 6,
   "id": "40bc442f",
   "metadata": {},
   "outputs": [],
   "source": [
    "data = factors[0].head()"
   ]
  },
  {
   "cell_type": "code",
   "execution_count": 7,
   "id": "3c08b717",
   "metadata": {},
   "outputs": [
    {
     "data": {
      "text/html": [
       "<div>\n",
       "<style scoped>\n",
       "    .dataframe tbody tr th:only-of-type {\n",
       "        vertical-align: middle;\n",
       "    }\n",
       "\n",
       "    .dataframe tbody tr th {\n",
       "        vertical-align: top;\n",
       "    }\n",
       "\n",
       "    .dataframe thead th {\n",
       "        text-align: right;\n",
       "    }\n",
       "</style>\n",
       "<table border=\"1\" class=\"dataframe\">\n",
       "  <thead>\n",
       "    <tr style=\"text-align: right;\">\n",
       "      <th></th>\n",
       "      <th>Mkt-RF</th>\n",
       "      <th>SMB</th>\n",
       "      <th>HML</th>\n",
       "      <th>RF</th>\n",
       "    </tr>\n",
       "    <tr>\n",
       "      <th>Date</th>\n",
       "      <th></th>\n",
       "      <th></th>\n",
       "      <th></th>\n",
       "      <th></th>\n",
       "    </tr>\n",
       "  </thead>\n",
       "  <tbody>\n",
       "    <tr>\n",
       "      <th>2019-11</th>\n",
       "      <td>3.88</td>\n",
       "      <td>0.78</td>\n",
       "      <td>-1.99</td>\n",
       "      <td>0.12</td>\n",
       "    </tr>\n",
       "    <tr>\n",
       "      <th>2019-12</th>\n",
       "      <td>2.77</td>\n",
       "      <td>0.73</td>\n",
       "      <td>1.78</td>\n",
       "      <td>0.14</td>\n",
       "    </tr>\n",
       "    <tr>\n",
       "      <th>2020-01</th>\n",
       "      <td>-0.11</td>\n",
       "      <td>-3.13</td>\n",
       "      <td>-6.25</td>\n",
       "      <td>0.13</td>\n",
       "    </tr>\n",
       "    <tr>\n",
       "      <th>2020-02</th>\n",
       "      <td>-8.13</td>\n",
       "      <td>1.07</td>\n",
       "      <td>-3.80</td>\n",
       "      <td>0.12</td>\n",
       "    </tr>\n",
       "    <tr>\n",
       "      <th>2020-03</th>\n",
       "      <td>-13.39</td>\n",
       "      <td>-4.79</td>\n",
       "      <td>-13.88</td>\n",
       "      <td>0.13</td>\n",
       "    </tr>\n",
       "  </tbody>\n",
       "</table>\n",
       "</div>"
      ],
      "text/plain": [
       "         Mkt-RF   SMB    HML    RF\n",
       "Date                              \n",
       "2019-11    3.88  0.78  -1.99  0.12\n",
       "2019-12    2.77  0.73   1.78  0.14\n",
       "2020-01   -0.11 -3.13  -6.25  0.13\n",
       "2020-02   -8.13  1.07  -3.80  0.12\n",
       "2020-03  -13.39 -4.79 -13.88  0.13"
      ]
     },
     "metadata": {},
     "output_type": "display_data"
    }
   ],
   "source": [
    "display(data)"
   ]
  },
  {
   "cell_type": "markdown",
   "id": "67f824e3",
   "metadata": {},
   "source": [
    "Displays the first few rows of the second dataset in 'factors'"
   ]
  },
  {
   "cell_type": "code",
   "execution_count": 10,
   "id": "aa37402f",
   "metadata": {},
   "outputs": [],
   "source": [
    "data = factors[1].head()"
   ]
  },
  {
   "cell_type": "code",
   "execution_count": 11,
   "id": "64c1869d",
   "metadata": {},
   "outputs": [
    {
     "data": {
      "text/html": [
       "<div>\n",
       "<style scoped>\n",
       "    .dataframe tbody tr th:only-of-type {\n",
       "        vertical-align: middle;\n",
       "    }\n",
       "\n",
       "    .dataframe tbody tr th {\n",
       "        vertical-align: top;\n",
       "    }\n",
       "\n",
       "    .dataframe thead th {\n",
       "        text-align: right;\n",
       "    }\n",
       "</style>\n",
       "<table border=\"1\" class=\"dataframe\">\n",
       "  <thead>\n",
       "    <tr style=\"text-align: right;\">\n",
       "      <th></th>\n",
       "      <th>Mkt-RF</th>\n",
       "      <th>SMB</th>\n",
       "      <th>HML</th>\n",
       "      <th>RF</th>\n",
       "    </tr>\n",
       "    <tr>\n",
       "      <th>Date</th>\n",
       "      <th></th>\n",
       "      <th></th>\n",
       "      <th></th>\n",
       "      <th></th>\n",
       "    </tr>\n",
       "  </thead>\n",
       "  <tbody>\n",
       "    <tr>\n",
       "      <th>2019</th>\n",
       "      <td>28.28</td>\n",
       "      <td>-6.13</td>\n",
       "      <td>-10.37</td>\n",
       "      <td>2.15</td>\n",
       "    </tr>\n",
       "    <tr>\n",
       "      <th>2020</th>\n",
       "      <td>23.66</td>\n",
       "      <td>12.72</td>\n",
       "      <td>-46.10</td>\n",
       "      <td>0.45</td>\n",
       "    </tr>\n",
       "    <tr>\n",
       "      <th>2021</th>\n",
       "      <td>23.57</td>\n",
       "      <td>-3.78</td>\n",
       "      <td>25.39</td>\n",
       "      <td>0.04</td>\n",
       "    </tr>\n",
       "    <tr>\n",
       "      <th>2022</th>\n",
       "      <td>-21.58</td>\n",
       "      <td>-7.04</td>\n",
       "      <td>25.97</td>\n",
       "      <td>1.43</td>\n",
       "    </tr>\n",
       "    <tr>\n",
       "      <th>2023</th>\n",
       "      <td>21.68</td>\n",
       "      <td>-3.29</td>\n",
       "      <td>-13.70</td>\n",
       "      <td>4.95</td>\n",
       "    </tr>\n",
       "  </tbody>\n",
       "</table>\n",
       "</div>"
      ],
      "text/plain": [
       "      Mkt-RF    SMB    HML    RF\n",
       "Date                            \n",
       "2019   28.28  -6.13 -10.37  2.15\n",
       "2020   23.66  12.72 -46.10  0.45\n",
       "2021   23.57  -3.78  25.39  0.04\n",
       "2022  -21.58  -7.04  25.97  1.43\n",
       "2023   21.68  -3.29 -13.70  4.95"
      ]
     },
     "metadata": {},
     "output_type": "display_data"
    }
   ],
   "source": [
    "display(data)"
   ]
  },
  {
   "cell_type": "markdown",
   "id": "c4e33ca2",
   "metadata": {},
   "source": [
    "Fetches the Fama-French research data factors within the specified date range and stores it in 'factors'"
   ]
  },
  {
   "cell_type": "code",
   "execution_count": 12,
   "id": "e3089efc",
   "metadata": {},
   "outputs": [],
   "source": [
    "factors = pdr.get_data_famafrench(\n",
    "    \"F-F_Research_Data_Factors\", start=\"2000-01-01\", end=\"2019-12-31\"\n",
    ")"
   ]
  },
  {
   "cell_type": "code",
   "execution_count": 13,
   "id": "508a3e51",
   "metadata": {},
   "outputs": [
    {
     "data": {
      "text/plain": [
       "{0:          Mkt-RF    SMB   HML    RF\n",
       " Date                              \n",
       " 2000-01   -4.74   5.77 -1.88  0.41\n",
       " 2000-02    2.45  21.36 -9.59  0.43\n",
       " 2000-03    5.20 -17.20  8.13  0.47\n",
       " 2000-04   -6.40  -6.68  7.26  0.46\n",
       " 2000-05   -4.42  -6.05  4.75  0.50\n",
       " ...         ...    ...   ...   ...\n",
       " 2019-08   -2.58  -2.39 -4.79  0.16\n",
       " 2019-09    1.43  -0.97  6.77  0.18\n",
       " 2019-10    2.06   0.29 -1.90  0.16\n",
       " 2019-11    3.88   0.78 -1.99  0.12\n",
       " 2019-12    2.77   0.73  1.78  0.14\n",
       " \n",
       " [240 rows x 4 columns],\n",
       " 1:       Mkt-RF    SMB    HML    RF\n",
       " Date                            \n",
       " 2000  -17.60  -4.60  44.98  5.89\n",
       " 2001  -15.21  18.16  18.52  3.83\n",
       " 2002  -22.76   4.39   8.09  1.65\n",
       " 2003   30.75  26.49   4.67  1.02\n",
       " 2004   10.72   4.45   7.61  1.20\n",
       " 2005    3.09  -2.36   9.41  2.98\n",
       " 2006   10.60   0.09  11.93  4.80\n",
       " 2007    1.04  -7.44 -17.18  4.66\n",
       " 2008  -38.34   2.40   1.05  1.60\n",
       " 2009   28.26   9.18  -9.65  0.10\n",
       " 2010   17.37  14.15  -5.15  0.12\n",
       " 2011    0.44  -5.73  -8.41  0.04\n",
       " 2012   16.27  -1.40  10.00  0.06\n",
       " 2013   35.20   7.72   2.60  0.02\n",
       " 2014   11.71  -7.82  -1.45  0.02\n",
       " 2015    0.09  -4.00  -9.67  0.02\n",
       " 2016   13.30   6.77  22.71  0.20\n",
       " 2017   21.51  -5.09 -13.59  0.80\n",
       " 2018   -6.94  -3.11  -9.77  1.83\n",
       " 2019   28.28  -6.13 -10.37  2.15,\n",
       " 'DESCR': 'F-F Research Data Factors\\n-------------------------\\n\\nThis file was created by CMPT_ME_BEME_RETS using the 202409 CRSP database. The 1-month TBill rate data until 202405 are from Ibbotson Associates. Starting from 202406, the 1-month TBill rate is from ICE BofA US 1-Month Treasury Bill Index. Copyright 2024 Eugene F. Fama and Kenneth R. French\\n\\n  0 : (240 rows x 4 cols)\\n  1 : Annual Factors: January-December (20 rows x 4 cols)'}"
      ]
     },
     "metadata": {},
     "output_type": "display_data"
    }
   ],
   "source": [
    "display(factors)"
   ]
  },
  {
   "cell_type": "markdown",
   "id": "095c43d5",
   "metadata": {},
   "source": [
    "**Jason Strimpel** is the founder of <a href='https://pyquantnews.com/'>PyQuant News</a> and co-founder of <a href='https://www.tradeblotter.io/'>Trade Blotter</a>. His career in algorithmic trading spans 20+ years. He previously traded for a Chicago-based hedge fund, was a risk manager at JPMorgan, and managed production risk technology for an energy derivatives trading firm in London. In Singapore, he served as APAC CIO for an agricultural trading firm and built the data science team for a global metals trading firm. Jason holds degrees in Finance and Economics and a Master's in Quantitative Finance from the Illinois Institute of Technology. His career spans America, Europe, and Asia. He shares his expertise through the <a href='https://pyquantnews.com/subscribe-to-the-pyquant-newsletter/'>PyQuant Newsletter</a>, social media, and has taught over 1,000+ algorithmic trading with Python in his popular course **<a href='https://gettingstartedwithpythonforquantfinance.com/'>Getting Started With Python for Quant Finance</a>**. All code is for educational purposes only. Nothing provided here is financial advise. Use at your own risk."
   ]
  },
  {
   "cell_type": "code",
   "execution_count": null,
   "id": "6a3b9759-1bad-4795-9ed7-832cf38819b7",
   "metadata": {},
   "outputs": [],
   "source": []
  }
 ],
 "metadata": {
  "jupytext": {
   "cell_metadata_filter": "-all",
   "main_language": "python",
   "notebook_metadata_filter": "-all"
  },
  "kernelspec": {
   "display_name": "openbb_all",
   "language": "python",
   "name": "python3"
  },
  "language_info": {
   "codemirror_mode": {
    "name": "ipython",
    "version": 3
   },
   "file_extension": ".py",
   "mimetype": "text/x-python",
   "name": "python",
   "nbconvert_exporter": "python",
   "pygments_lexer": "ipython3",
   "version": "3.11.10"
  }
 },
 "nbformat": 4,
 "nbformat_minor": 5
}
